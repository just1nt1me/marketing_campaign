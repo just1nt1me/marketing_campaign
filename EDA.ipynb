{
 "cells": [
  {
   "cell_type": "markdown",
   "id": "a0bfcf87",
   "metadata": {},
   "source": [
    "<img src=\"https://upload.wikimedia.org/wikipedia/commons/7/7c/Kaggle_logo.png\" align=\"left\" height=100 width=200>"
   ]
  },
  {
   "cell_type": "markdown",
   "id": "c78f0850",
   "metadata": {},
   "source": [
    "🚀 [**Kaggle - Marketing Campaign**](https://www.kaggle.com/datasets/rodsaldanha/arketing-campaign?select=marketing_campaign.csv) 🚀"
   ]
  },
  {
   "cell_type": "markdown",
   "id": "13174206",
   "metadata": {},
   "source": [
    "# ℹ️ Readme"
   ]
  },
  {
   "cell_type": "markdown",
   "id": "25b0e92a",
   "metadata": {},
   "source": [
    "- The purpose of this analysis is to predict whether a customer will respond to an offer for a product or service."
   ]
  },
  {
   "cell_type": "markdown",
   "id": "acc59995",
   "metadata": {},
   "source": [
    "# 📚 Import Libraries and Dataset"
   ]
  },
  {
   "cell_type": "code",
   "execution_count": 1,
   "id": "19a361fa",
   "metadata": {},
   "outputs": [],
   "source": [
    "%load_ext autoreload\n",
    "%autoreload 2"
   ]
  },
  {
   "cell_type": "code",
   "execution_count": 2,
   "id": "df88e562",
   "metadata": {},
   "outputs": [],
   "source": [
    "# DATA MANIPULTION \n",
    "import pandas as pd \n",
    "import numpy as np\n",
    "\n",
    "# DATA VIZ\n",
    "import matplotlib.pyplot as plt\n",
    "import seaborn as sns\n",
    "\n",
    "# STATS\n",
    "from scipy import stats\n",
    "from statsmodels.graphics.gofplots import qqplot\n",
    "\n",
    "# MACHINE LEARNING\n",
    "## PREPROCESSING\n",
    "from sklearn.impute import SimpleImputer, KNNImputer\n",
    "## MODEL SELECTION\n",
    "from sklearn.model_selection import train_test_split, cross_validate, cross_val_predict\n",
    "## SCALERS\n",
    "from sklearn.preprocessing import StandardScaler, RobustScaler, MinMaxScaler\n",
    "from sklearn.preprocessing import OneHotEncoder, OrdinalEncoder\n",
    "## CLASSIFICATION MODELS\n",
    "from sklearn.linear_model import LogisticRegression\n",
    "from sklearn.neighbors import KNeighborsClassifier\n",
    "from sklearn.svm import SVC\n",
    "## EVALUATION\n",
    "from sklearn.metrics import accuracy_score, recall_score\n",
    "from sklearn.metrics import confusion_matrix, ConfusionMatrixDisplay, classification_report\n",
    "from sklearn.metrics import precision_recall_curve\n",
    "## MODEL TUNING\n",
    "from sklearn.model_selection import GridSearchCV, RandomizedSearchCV"
   ]
  },
  {
   "cell_type": "code",
   "execution_count": 3,
   "id": "1a43c8f3",
   "metadata": {},
   "outputs": [],
   "source": [
    "pd.set_option('display.max_columns', None)\n",
    "df = pd.read_csv('marketing_data/marketing_campaign.csv', sep=\";\")"
   ]
  },
  {
   "cell_type": "code",
   "execution_count": 4,
   "id": "af535aec",
   "metadata": {},
   "outputs": [
    {
     "data": {
      "text/html": [
       "<div>\n",
       "<style scoped>\n",
       "    .dataframe tbody tr th:only-of-type {\n",
       "        vertical-align: middle;\n",
       "    }\n",
       "\n",
       "    .dataframe tbody tr th {\n",
       "        vertical-align: top;\n",
       "    }\n",
       "\n",
       "    .dataframe thead th {\n",
       "        text-align: right;\n",
       "    }\n",
       "</style>\n",
       "<table border=\"1\" class=\"dataframe\">\n",
       "  <thead>\n",
       "    <tr style=\"text-align: right;\">\n",
       "      <th></th>\n",
       "      <th>ID</th>\n",
       "      <th>Year_Birth</th>\n",
       "      <th>Education</th>\n",
       "      <th>Marital_Status</th>\n",
       "      <th>Income</th>\n",
       "      <th>Kidhome</th>\n",
       "      <th>Teenhome</th>\n",
       "      <th>Dt_Customer</th>\n",
       "      <th>Recency</th>\n",
       "      <th>MntWines</th>\n",
       "      <th>MntFruits</th>\n",
       "      <th>MntMeatProducts</th>\n",
       "      <th>MntFishProducts</th>\n",
       "      <th>MntSweetProducts</th>\n",
       "      <th>MntGoldProds</th>\n",
       "      <th>NumDealsPurchases</th>\n",
       "      <th>NumWebPurchases</th>\n",
       "      <th>NumCatalogPurchases</th>\n",
       "      <th>NumStorePurchases</th>\n",
       "      <th>NumWebVisitsMonth</th>\n",
       "      <th>AcceptedCmp3</th>\n",
       "      <th>AcceptedCmp4</th>\n",
       "      <th>AcceptedCmp5</th>\n",
       "      <th>AcceptedCmp1</th>\n",
       "      <th>AcceptedCmp2</th>\n",
       "      <th>Complain</th>\n",
       "      <th>Z_CostContact</th>\n",
       "      <th>Z_Revenue</th>\n",
       "      <th>Response</th>\n",
       "    </tr>\n",
       "  </thead>\n",
       "  <tbody>\n",
       "    <tr>\n",
       "      <th>0</th>\n",
       "      <td>5524</td>\n",
       "      <td>1957</td>\n",
       "      <td>Graduation</td>\n",
       "      <td>Single</td>\n",
       "      <td>58138.0</td>\n",
       "      <td>0</td>\n",
       "      <td>0</td>\n",
       "      <td>2012-09-04</td>\n",
       "      <td>58</td>\n",
       "      <td>635</td>\n",
       "      <td>88</td>\n",
       "      <td>546</td>\n",
       "      <td>172</td>\n",
       "      <td>88</td>\n",
       "      <td>88</td>\n",
       "      <td>3</td>\n",
       "      <td>8</td>\n",
       "      <td>10</td>\n",
       "      <td>4</td>\n",
       "      <td>7</td>\n",
       "      <td>0</td>\n",
       "      <td>0</td>\n",
       "      <td>0</td>\n",
       "      <td>0</td>\n",
       "      <td>0</td>\n",
       "      <td>0</td>\n",
       "      <td>3</td>\n",
       "      <td>11</td>\n",
       "      <td>1</td>\n",
       "    </tr>\n",
       "    <tr>\n",
       "      <th>1</th>\n",
       "      <td>2174</td>\n",
       "      <td>1954</td>\n",
       "      <td>Graduation</td>\n",
       "      <td>Single</td>\n",
       "      <td>46344.0</td>\n",
       "      <td>1</td>\n",
       "      <td>1</td>\n",
       "      <td>2014-03-08</td>\n",
       "      <td>38</td>\n",
       "      <td>11</td>\n",
       "      <td>1</td>\n",
       "      <td>6</td>\n",
       "      <td>2</td>\n",
       "      <td>1</td>\n",
       "      <td>6</td>\n",
       "      <td>2</td>\n",
       "      <td>1</td>\n",
       "      <td>1</td>\n",
       "      <td>2</td>\n",
       "      <td>5</td>\n",
       "      <td>0</td>\n",
       "      <td>0</td>\n",
       "      <td>0</td>\n",
       "      <td>0</td>\n",
       "      <td>0</td>\n",
       "      <td>0</td>\n",
       "      <td>3</td>\n",
       "      <td>11</td>\n",
       "      <td>0</td>\n",
       "    </tr>\n",
       "    <tr>\n",
       "      <th>2</th>\n",
       "      <td>4141</td>\n",
       "      <td>1965</td>\n",
       "      <td>Graduation</td>\n",
       "      <td>Together</td>\n",
       "      <td>71613.0</td>\n",
       "      <td>0</td>\n",
       "      <td>0</td>\n",
       "      <td>2013-08-21</td>\n",
       "      <td>26</td>\n",
       "      <td>426</td>\n",
       "      <td>49</td>\n",
       "      <td>127</td>\n",
       "      <td>111</td>\n",
       "      <td>21</td>\n",
       "      <td>42</td>\n",
       "      <td>1</td>\n",
       "      <td>8</td>\n",
       "      <td>2</td>\n",
       "      <td>10</td>\n",
       "      <td>4</td>\n",
       "      <td>0</td>\n",
       "      <td>0</td>\n",
       "      <td>0</td>\n",
       "      <td>0</td>\n",
       "      <td>0</td>\n",
       "      <td>0</td>\n",
       "      <td>3</td>\n",
       "      <td>11</td>\n",
       "      <td>0</td>\n",
       "    </tr>\n",
       "    <tr>\n",
       "      <th>3</th>\n",
       "      <td>6182</td>\n",
       "      <td>1984</td>\n",
       "      <td>Graduation</td>\n",
       "      <td>Together</td>\n",
       "      <td>26646.0</td>\n",
       "      <td>1</td>\n",
       "      <td>0</td>\n",
       "      <td>2014-02-10</td>\n",
       "      <td>26</td>\n",
       "      <td>11</td>\n",
       "      <td>4</td>\n",
       "      <td>20</td>\n",
       "      <td>10</td>\n",
       "      <td>3</td>\n",
       "      <td>5</td>\n",
       "      <td>2</td>\n",
       "      <td>2</td>\n",
       "      <td>0</td>\n",
       "      <td>4</td>\n",
       "      <td>6</td>\n",
       "      <td>0</td>\n",
       "      <td>0</td>\n",
       "      <td>0</td>\n",
       "      <td>0</td>\n",
       "      <td>0</td>\n",
       "      <td>0</td>\n",
       "      <td>3</td>\n",
       "      <td>11</td>\n",
       "      <td>0</td>\n",
       "    </tr>\n",
       "    <tr>\n",
       "      <th>4</th>\n",
       "      <td>5324</td>\n",
       "      <td>1981</td>\n",
       "      <td>PhD</td>\n",
       "      <td>Married</td>\n",
       "      <td>58293.0</td>\n",
       "      <td>1</td>\n",
       "      <td>0</td>\n",
       "      <td>2014-01-19</td>\n",
       "      <td>94</td>\n",
       "      <td>173</td>\n",
       "      <td>43</td>\n",
       "      <td>118</td>\n",
       "      <td>46</td>\n",
       "      <td>27</td>\n",
       "      <td>15</td>\n",
       "      <td>5</td>\n",
       "      <td>5</td>\n",
       "      <td>3</td>\n",
       "      <td>6</td>\n",
       "      <td>5</td>\n",
       "      <td>0</td>\n",
       "      <td>0</td>\n",
       "      <td>0</td>\n",
       "      <td>0</td>\n",
       "      <td>0</td>\n",
       "      <td>0</td>\n",
       "      <td>3</td>\n",
       "      <td>11</td>\n",
       "      <td>0</td>\n",
       "    </tr>\n",
       "  </tbody>\n",
       "</table>\n",
       "</div>"
      ],
      "text/plain": [
       "     ID  Year_Birth   Education Marital_Status   Income  Kidhome  Teenhome  \\\n",
       "0  5524        1957  Graduation         Single  58138.0        0         0   \n",
       "1  2174        1954  Graduation         Single  46344.0        1         1   \n",
       "2  4141        1965  Graduation       Together  71613.0        0         0   \n",
       "3  6182        1984  Graduation       Together  26646.0        1         0   \n",
       "4  5324        1981         PhD        Married  58293.0        1         0   \n",
       "\n",
       "  Dt_Customer  Recency  MntWines  MntFruits  MntMeatProducts  MntFishProducts  \\\n",
       "0  2012-09-04       58       635         88              546              172   \n",
       "1  2014-03-08       38        11          1                6                2   \n",
       "2  2013-08-21       26       426         49              127              111   \n",
       "3  2014-02-10       26        11          4               20               10   \n",
       "4  2014-01-19       94       173         43              118               46   \n",
       "\n",
       "   MntSweetProducts  MntGoldProds  NumDealsPurchases  NumWebPurchases  \\\n",
       "0                88            88                  3                8   \n",
       "1                 1             6                  2                1   \n",
       "2                21            42                  1                8   \n",
       "3                 3             5                  2                2   \n",
       "4                27            15                  5                5   \n",
       "\n",
       "   NumCatalogPurchases  NumStorePurchases  NumWebVisitsMonth  AcceptedCmp3  \\\n",
       "0                   10                  4                  7             0   \n",
       "1                    1                  2                  5             0   \n",
       "2                    2                 10                  4             0   \n",
       "3                    0                  4                  6             0   \n",
       "4                    3                  6                  5             0   \n",
       "\n",
       "   AcceptedCmp4  AcceptedCmp5  AcceptedCmp1  AcceptedCmp2  Complain  \\\n",
       "0             0             0             0             0         0   \n",
       "1             0             0             0             0         0   \n",
       "2             0             0             0             0         0   \n",
       "3             0             0             0             0         0   \n",
       "4             0             0             0             0         0   \n",
       "\n",
       "   Z_CostContact  Z_Revenue  Response  \n",
       "0              3         11         1  \n",
       "1              3         11         0  \n",
       "2              3         11         0  \n",
       "3              3         11         0  \n",
       "4              3         11         0  "
      ]
     },
     "execution_count": 4,
     "metadata": {},
     "output_type": "execute_result"
    }
   ],
   "source": [
    "df.head()"
   ]
  },
  {
   "cell_type": "markdown",
   "id": "c45b64db",
   "metadata": {},
   "source": [
    "# 🔎 Check the Dataset"
   ]
  },
  {
   "cell_type": "code",
   "execution_count": 5,
   "id": "2a43ac03",
   "metadata": {},
   "outputs": [
    {
     "data": {
      "text/plain": [
       "(2240, 29)"
      ]
     },
     "execution_count": 5,
     "metadata": {},
     "output_type": "execute_result"
    }
   ],
   "source": [
    "df.shape"
   ]
  },
  {
   "cell_type": "code",
   "execution_count": 6,
   "id": "fc5cf3c5",
   "metadata": {},
   "outputs": [
    {
     "data": {
      "text/plain": [
       "Index(['ID', 'Year_Birth', 'Education', 'Marital_Status', 'Income', 'Kidhome',\n",
       "       'Teenhome', 'Dt_Customer', 'Recency', 'MntWines', 'MntFruits',\n",
       "       'MntMeatProducts', 'MntFishProducts', 'MntSweetProducts',\n",
       "       'MntGoldProds', 'NumDealsPurchases', 'NumWebPurchases',\n",
       "       'NumCatalogPurchases', 'NumStorePurchases', 'NumWebVisitsMonth',\n",
       "       'AcceptedCmp3', 'AcceptedCmp4', 'AcceptedCmp5', 'AcceptedCmp1',\n",
       "       'AcceptedCmp2', 'Complain', 'Z_CostContact', 'Z_Revenue', 'Response'],\n",
       "      dtype='object')"
      ]
     },
     "execution_count": 6,
     "metadata": {},
     "output_type": "execute_result"
    }
   ],
   "source": [
    "df.columns"
   ]
  },
  {
   "cell_type": "code",
   "execution_count": 7,
   "id": "4d9a3829",
   "metadata": {},
   "outputs": [
    {
     "data": {
      "text/plain": [
       "int64      25\n",
       "object      3\n",
       "float64     1\n",
       "dtype: int64"
      ]
     },
     "execution_count": 7,
     "metadata": {},
     "output_type": "execute_result"
    }
   ],
   "source": [
    "# check datatypes\n",
    "df.dtypes.value_counts()"
   ]
  },
  {
   "cell_type": "code",
   "execution_count": 8,
   "id": "bae1fc38",
   "metadata": {},
   "outputs": [
    {
     "data": {
      "text/html": [
       "<div>\n",
       "<style scoped>\n",
       "    .dataframe tbody tr th:only-of-type {\n",
       "        vertical-align: middle;\n",
       "    }\n",
       "\n",
       "    .dataframe tbody tr th {\n",
       "        vertical-align: top;\n",
       "    }\n",
       "\n",
       "    .dataframe thead th {\n",
       "        text-align: right;\n",
       "    }\n",
       "</style>\n",
       "<table border=\"1\" class=\"dataframe\">\n",
       "  <thead>\n",
       "    <tr style=\"text-align: right;\">\n",
       "      <th></th>\n",
       "      <th>ID</th>\n",
       "      <th>Year_Birth</th>\n",
       "      <th>Income</th>\n",
       "      <th>Kidhome</th>\n",
       "      <th>Teenhome</th>\n",
       "      <th>Recency</th>\n",
       "      <th>MntWines</th>\n",
       "      <th>MntFruits</th>\n",
       "      <th>MntMeatProducts</th>\n",
       "      <th>MntFishProducts</th>\n",
       "      <th>MntSweetProducts</th>\n",
       "      <th>MntGoldProds</th>\n",
       "      <th>NumDealsPurchases</th>\n",
       "      <th>NumWebPurchases</th>\n",
       "      <th>NumCatalogPurchases</th>\n",
       "      <th>NumStorePurchases</th>\n",
       "      <th>NumWebVisitsMonth</th>\n",
       "      <th>AcceptedCmp3</th>\n",
       "      <th>AcceptedCmp4</th>\n",
       "      <th>AcceptedCmp5</th>\n",
       "      <th>AcceptedCmp1</th>\n",
       "      <th>AcceptedCmp2</th>\n",
       "      <th>Complain</th>\n",
       "      <th>Z_CostContact</th>\n",
       "      <th>Z_Revenue</th>\n",
       "      <th>Response</th>\n",
       "    </tr>\n",
       "  </thead>\n",
       "  <tbody>\n",
       "    <tr>\n",
       "      <th>count</th>\n",
       "      <td>2240.000000</td>\n",
       "      <td>2240.000000</td>\n",
       "      <td>2216.000000</td>\n",
       "      <td>2240.000000</td>\n",
       "      <td>2240.000000</td>\n",
       "      <td>2240.000000</td>\n",
       "      <td>2240.000000</td>\n",
       "      <td>2240.000000</td>\n",
       "      <td>2240.000000</td>\n",
       "      <td>2240.000000</td>\n",
       "      <td>2240.000000</td>\n",
       "      <td>2240.000000</td>\n",
       "      <td>2240.000000</td>\n",
       "      <td>2240.000000</td>\n",
       "      <td>2240.000000</td>\n",
       "      <td>2240.000000</td>\n",
       "      <td>2240.000000</td>\n",
       "      <td>2240.000000</td>\n",
       "      <td>2240.000000</td>\n",
       "      <td>2240.000000</td>\n",
       "      <td>2240.000000</td>\n",
       "      <td>2240.000000</td>\n",
       "      <td>2240.000000</td>\n",
       "      <td>2240.0</td>\n",
       "      <td>2240.0</td>\n",
       "      <td>2240.000000</td>\n",
       "    </tr>\n",
       "    <tr>\n",
       "      <th>mean</th>\n",
       "      <td>5592.159821</td>\n",
       "      <td>1968.805804</td>\n",
       "      <td>52247.251354</td>\n",
       "      <td>0.444196</td>\n",
       "      <td>0.506250</td>\n",
       "      <td>49.109375</td>\n",
       "      <td>303.935714</td>\n",
       "      <td>26.302232</td>\n",
       "      <td>166.950000</td>\n",
       "      <td>37.525446</td>\n",
       "      <td>27.062946</td>\n",
       "      <td>44.021875</td>\n",
       "      <td>2.325000</td>\n",
       "      <td>4.084821</td>\n",
       "      <td>2.662054</td>\n",
       "      <td>5.790179</td>\n",
       "      <td>5.316518</td>\n",
       "      <td>0.072768</td>\n",
       "      <td>0.074554</td>\n",
       "      <td>0.072768</td>\n",
       "      <td>0.064286</td>\n",
       "      <td>0.013393</td>\n",
       "      <td>0.009375</td>\n",
       "      <td>3.0</td>\n",
       "      <td>11.0</td>\n",
       "      <td>0.149107</td>\n",
       "    </tr>\n",
       "    <tr>\n",
       "      <th>std</th>\n",
       "      <td>3246.662198</td>\n",
       "      <td>11.984069</td>\n",
       "      <td>25173.076661</td>\n",
       "      <td>0.538398</td>\n",
       "      <td>0.544538</td>\n",
       "      <td>28.962453</td>\n",
       "      <td>336.597393</td>\n",
       "      <td>39.773434</td>\n",
       "      <td>225.715373</td>\n",
       "      <td>54.628979</td>\n",
       "      <td>41.280498</td>\n",
       "      <td>52.167439</td>\n",
       "      <td>1.932238</td>\n",
       "      <td>2.778714</td>\n",
       "      <td>2.923101</td>\n",
       "      <td>3.250958</td>\n",
       "      <td>2.426645</td>\n",
       "      <td>0.259813</td>\n",
       "      <td>0.262728</td>\n",
       "      <td>0.259813</td>\n",
       "      <td>0.245316</td>\n",
       "      <td>0.114976</td>\n",
       "      <td>0.096391</td>\n",
       "      <td>0.0</td>\n",
       "      <td>0.0</td>\n",
       "      <td>0.356274</td>\n",
       "    </tr>\n",
       "    <tr>\n",
       "      <th>min</th>\n",
       "      <td>0.000000</td>\n",
       "      <td>1893.000000</td>\n",
       "      <td>1730.000000</td>\n",
       "      <td>0.000000</td>\n",
       "      <td>0.000000</td>\n",
       "      <td>0.000000</td>\n",
       "      <td>0.000000</td>\n",
       "      <td>0.000000</td>\n",
       "      <td>0.000000</td>\n",
       "      <td>0.000000</td>\n",
       "      <td>0.000000</td>\n",
       "      <td>0.000000</td>\n",
       "      <td>0.000000</td>\n",
       "      <td>0.000000</td>\n",
       "      <td>0.000000</td>\n",
       "      <td>0.000000</td>\n",
       "      <td>0.000000</td>\n",
       "      <td>0.000000</td>\n",
       "      <td>0.000000</td>\n",
       "      <td>0.000000</td>\n",
       "      <td>0.000000</td>\n",
       "      <td>0.000000</td>\n",
       "      <td>0.000000</td>\n",
       "      <td>3.0</td>\n",
       "      <td>11.0</td>\n",
       "      <td>0.000000</td>\n",
       "    </tr>\n",
       "    <tr>\n",
       "      <th>25%</th>\n",
       "      <td>2828.250000</td>\n",
       "      <td>1959.000000</td>\n",
       "      <td>35303.000000</td>\n",
       "      <td>0.000000</td>\n",
       "      <td>0.000000</td>\n",
       "      <td>24.000000</td>\n",
       "      <td>23.750000</td>\n",
       "      <td>1.000000</td>\n",
       "      <td>16.000000</td>\n",
       "      <td>3.000000</td>\n",
       "      <td>1.000000</td>\n",
       "      <td>9.000000</td>\n",
       "      <td>1.000000</td>\n",
       "      <td>2.000000</td>\n",
       "      <td>0.000000</td>\n",
       "      <td>3.000000</td>\n",
       "      <td>3.000000</td>\n",
       "      <td>0.000000</td>\n",
       "      <td>0.000000</td>\n",
       "      <td>0.000000</td>\n",
       "      <td>0.000000</td>\n",
       "      <td>0.000000</td>\n",
       "      <td>0.000000</td>\n",
       "      <td>3.0</td>\n",
       "      <td>11.0</td>\n",
       "      <td>0.000000</td>\n",
       "    </tr>\n",
       "    <tr>\n",
       "      <th>50%</th>\n",
       "      <td>5458.500000</td>\n",
       "      <td>1970.000000</td>\n",
       "      <td>51381.500000</td>\n",
       "      <td>0.000000</td>\n",
       "      <td>0.000000</td>\n",
       "      <td>49.000000</td>\n",
       "      <td>173.500000</td>\n",
       "      <td>8.000000</td>\n",
       "      <td>67.000000</td>\n",
       "      <td>12.000000</td>\n",
       "      <td>8.000000</td>\n",
       "      <td>24.000000</td>\n",
       "      <td>2.000000</td>\n",
       "      <td>4.000000</td>\n",
       "      <td>2.000000</td>\n",
       "      <td>5.000000</td>\n",
       "      <td>6.000000</td>\n",
       "      <td>0.000000</td>\n",
       "      <td>0.000000</td>\n",
       "      <td>0.000000</td>\n",
       "      <td>0.000000</td>\n",
       "      <td>0.000000</td>\n",
       "      <td>0.000000</td>\n",
       "      <td>3.0</td>\n",
       "      <td>11.0</td>\n",
       "      <td>0.000000</td>\n",
       "    </tr>\n",
       "    <tr>\n",
       "      <th>75%</th>\n",
       "      <td>8427.750000</td>\n",
       "      <td>1977.000000</td>\n",
       "      <td>68522.000000</td>\n",
       "      <td>1.000000</td>\n",
       "      <td>1.000000</td>\n",
       "      <td>74.000000</td>\n",
       "      <td>504.250000</td>\n",
       "      <td>33.000000</td>\n",
       "      <td>232.000000</td>\n",
       "      <td>50.000000</td>\n",
       "      <td>33.000000</td>\n",
       "      <td>56.000000</td>\n",
       "      <td>3.000000</td>\n",
       "      <td>6.000000</td>\n",
       "      <td>4.000000</td>\n",
       "      <td>8.000000</td>\n",
       "      <td>7.000000</td>\n",
       "      <td>0.000000</td>\n",
       "      <td>0.000000</td>\n",
       "      <td>0.000000</td>\n",
       "      <td>0.000000</td>\n",
       "      <td>0.000000</td>\n",
       "      <td>0.000000</td>\n",
       "      <td>3.0</td>\n",
       "      <td>11.0</td>\n",
       "      <td>0.000000</td>\n",
       "    </tr>\n",
       "    <tr>\n",
       "      <th>max</th>\n",
       "      <td>11191.000000</td>\n",
       "      <td>1996.000000</td>\n",
       "      <td>666666.000000</td>\n",
       "      <td>2.000000</td>\n",
       "      <td>2.000000</td>\n",
       "      <td>99.000000</td>\n",
       "      <td>1493.000000</td>\n",
       "      <td>199.000000</td>\n",
       "      <td>1725.000000</td>\n",
       "      <td>259.000000</td>\n",
       "      <td>263.000000</td>\n",
       "      <td>362.000000</td>\n",
       "      <td>15.000000</td>\n",
       "      <td>27.000000</td>\n",
       "      <td>28.000000</td>\n",
       "      <td>13.000000</td>\n",
       "      <td>20.000000</td>\n",
       "      <td>1.000000</td>\n",
       "      <td>1.000000</td>\n",
       "      <td>1.000000</td>\n",
       "      <td>1.000000</td>\n",
       "      <td>1.000000</td>\n",
       "      <td>1.000000</td>\n",
       "      <td>3.0</td>\n",
       "      <td>11.0</td>\n",
       "      <td>1.000000</td>\n",
       "    </tr>\n",
       "  </tbody>\n",
       "</table>\n",
       "</div>"
      ],
      "text/plain": [
       "                 ID   Year_Birth         Income      Kidhome     Teenhome  \\\n",
       "count   2240.000000  2240.000000    2216.000000  2240.000000  2240.000000   \n",
       "mean    5592.159821  1968.805804   52247.251354     0.444196     0.506250   \n",
       "std     3246.662198    11.984069   25173.076661     0.538398     0.544538   \n",
       "min        0.000000  1893.000000    1730.000000     0.000000     0.000000   \n",
       "25%     2828.250000  1959.000000   35303.000000     0.000000     0.000000   \n",
       "50%     5458.500000  1970.000000   51381.500000     0.000000     0.000000   \n",
       "75%     8427.750000  1977.000000   68522.000000     1.000000     1.000000   \n",
       "max    11191.000000  1996.000000  666666.000000     2.000000     2.000000   \n",
       "\n",
       "           Recency     MntWines    MntFruits  MntMeatProducts  \\\n",
       "count  2240.000000  2240.000000  2240.000000      2240.000000   \n",
       "mean     49.109375   303.935714    26.302232       166.950000   \n",
       "std      28.962453   336.597393    39.773434       225.715373   \n",
       "min       0.000000     0.000000     0.000000         0.000000   \n",
       "25%      24.000000    23.750000     1.000000        16.000000   \n",
       "50%      49.000000   173.500000     8.000000        67.000000   \n",
       "75%      74.000000   504.250000    33.000000       232.000000   \n",
       "max      99.000000  1493.000000   199.000000      1725.000000   \n",
       "\n",
       "       MntFishProducts  MntSweetProducts  MntGoldProds  NumDealsPurchases  \\\n",
       "count      2240.000000       2240.000000   2240.000000        2240.000000   \n",
       "mean         37.525446         27.062946     44.021875           2.325000   \n",
       "std          54.628979         41.280498     52.167439           1.932238   \n",
       "min           0.000000          0.000000      0.000000           0.000000   \n",
       "25%           3.000000          1.000000      9.000000           1.000000   \n",
       "50%          12.000000          8.000000     24.000000           2.000000   \n",
       "75%          50.000000         33.000000     56.000000           3.000000   \n",
       "max         259.000000        263.000000    362.000000          15.000000   \n",
       "\n",
       "       NumWebPurchases  NumCatalogPurchases  NumStorePurchases  \\\n",
       "count      2240.000000          2240.000000        2240.000000   \n",
       "mean          4.084821             2.662054           5.790179   \n",
       "std           2.778714             2.923101           3.250958   \n",
       "min           0.000000             0.000000           0.000000   \n",
       "25%           2.000000             0.000000           3.000000   \n",
       "50%           4.000000             2.000000           5.000000   \n",
       "75%           6.000000             4.000000           8.000000   \n",
       "max          27.000000            28.000000          13.000000   \n",
       "\n",
       "       NumWebVisitsMonth  AcceptedCmp3  AcceptedCmp4  AcceptedCmp5  \\\n",
       "count        2240.000000   2240.000000   2240.000000   2240.000000   \n",
       "mean            5.316518      0.072768      0.074554      0.072768   \n",
       "std             2.426645      0.259813      0.262728      0.259813   \n",
       "min             0.000000      0.000000      0.000000      0.000000   \n",
       "25%             3.000000      0.000000      0.000000      0.000000   \n",
       "50%             6.000000      0.000000      0.000000      0.000000   \n",
       "75%             7.000000      0.000000      0.000000      0.000000   \n",
       "max            20.000000      1.000000      1.000000      1.000000   \n",
       "\n",
       "       AcceptedCmp1  AcceptedCmp2     Complain  Z_CostContact  Z_Revenue  \\\n",
       "count   2240.000000   2240.000000  2240.000000         2240.0     2240.0   \n",
       "mean       0.064286      0.013393     0.009375            3.0       11.0   \n",
       "std        0.245316      0.114976     0.096391            0.0        0.0   \n",
       "min        0.000000      0.000000     0.000000            3.0       11.0   \n",
       "25%        0.000000      0.000000     0.000000            3.0       11.0   \n",
       "50%        0.000000      0.000000     0.000000            3.0       11.0   \n",
       "75%        0.000000      0.000000     0.000000            3.0       11.0   \n",
       "max        1.000000      1.000000     1.000000            3.0       11.0   \n",
       "\n",
       "          Response  \n",
       "count  2240.000000  \n",
       "mean      0.149107  \n",
       "std       0.356274  \n",
       "min       0.000000  \n",
       "25%       0.000000  \n",
       "50%       0.000000  \n",
       "75%       0.000000  \n",
       "max       1.000000  "
      ]
     },
     "execution_count": 8,
     "metadata": {},
     "output_type": "execute_result"
    }
   ],
   "source": [
    "df.describe()"
   ]
  },
  {
   "cell_type": "markdown",
   "id": "9edc6868",
   "metadata": {},
   "source": [
    "# 🧹 Data Cleaning / Prep"
   ]
  },
  {
   "cell_type": "markdown",
   "id": "1eccb2fa",
   "metadata": {},
   "source": [
    "## 👥 Duplicates"
   ]
  },
  {
   "cell_type": "code",
   "execution_count": 9,
   "id": "b0fc992d",
   "metadata": {},
   "outputs": [
    {
     "data": {
      "text/plain": [
       "0"
      ]
     },
     "execution_count": 9,
     "metadata": {},
     "output_type": "execute_result"
    }
   ],
   "source": [
    "df.duplicated().sum()"
   ]
  },
  {
   "cell_type": "markdown",
   "id": "175d7c57",
   "metadata": {},
   "source": [
    "## ❓ Missing Values"
   ]
  },
  {
   "cell_type": "code",
   "execution_count": 10,
   "id": "d830b1ae",
   "metadata": {},
   "outputs": [
    {
     "data": {
      "text/plain": [
       "ID                      0\n",
       "Year_Birth              0\n",
       "Education               0\n",
       "Marital_Status          0\n",
       "Income                 24\n",
       "Kidhome                 0\n",
       "Teenhome                0\n",
       "Dt_Customer             0\n",
       "Recency                 0\n",
       "MntWines                0\n",
       "MntFruits               0\n",
       "MntMeatProducts         0\n",
       "MntFishProducts         0\n",
       "MntSweetProducts        0\n",
       "MntGoldProds            0\n",
       "NumDealsPurchases       0\n",
       "NumWebPurchases         0\n",
       "NumCatalogPurchases     0\n",
       "NumStorePurchases       0\n",
       "NumWebVisitsMonth       0\n",
       "AcceptedCmp3            0\n",
       "AcceptedCmp4            0\n",
       "AcceptedCmp5            0\n",
       "AcceptedCmp1            0\n",
       "AcceptedCmp2            0\n",
       "Complain                0\n",
       "Z_CostContact           0\n",
       "Z_Revenue               0\n",
       "Response                0\n",
       "dtype: int64"
      ]
     },
     "execution_count": 10,
     "metadata": {},
     "output_type": "execute_result"
    }
   ],
   "source": [
    "df.isnull().sum()"
   ]
  },
  {
   "cell_type": "markdown",
   "id": "e4c5c716",
   "metadata": {},
   "source": [
    "### 💸 Impute missing salaries"
   ]
  },
  {
   "cell_type": "code",
   "execution_count": 11,
   "id": "7214f213",
   "metadata": {},
   "outputs": [
    {
     "data": {
      "text/plain": [
       "ID                     0\n",
       "Year_Birth             0\n",
       "Education              0\n",
       "Marital_Status         0\n",
       "Income                 0\n",
       "Kidhome                0\n",
       "Teenhome               0\n",
       "Dt_Customer            0\n",
       "Recency                0\n",
       "MntWines               0\n",
       "MntFruits              0\n",
       "MntMeatProducts        0\n",
       "MntFishProducts        0\n",
       "MntSweetProducts       0\n",
       "MntGoldProds           0\n",
       "NumDealsPurchases      0\n",
       "NumWebPurchases        0\n",
       "NumCatalogPurchases    0\n",
       "NumStorePurchases      0\n",
       "NumWebVisitsMonth      0\n",
       "AcceptedCmp3           0\n",
       "AcceptedCmp4           0\n",
       "AcceptedCmp5           0\n",
       "AcceptedCmp1           0\n",
       "AcceptedCmp2           0\n",
       "Complain               0\n",
       "Z_CostContact          0\n",
       "Z_Revenue              0\n",
       "Response               0\n",
       "dtype: int64"
      ]
     },
     "execution_count": 11,
     "metadata": {},
     "output_type": "execute_result"
    }
   ],
   "source": [
    "knn_imputer = KNNImputer(n_neighbors = 5)\n",
    "knn_imputer.fit(df[[\"Income\"]])\n",
    "df[\"Income\"] = knn_imputer.transform(df[[\"Income\"]])\n",
    "df.isnull().sum()"
   ]
  },
  {
   "cell_type": "markdown",
   "id": "1f099525",
   "metadata": {},
   "source": [
    "## 🧑‍🔬 Feature Engineering"
   ]
  },
  {
   "cell_type": "markdown",
   "id": "d2a77404",
   "metadata": {},
   "source": [
    "### 🗓️ Change Dt_Customer from Object > DateTime > # number of days"
   ]
  },
  {
   "cell_type": "code",
   "execution_count": 12,
   "id": "d048394d",
   "metadata": {},
   "outputs": [
    {
     "data": {
      "text/plain": [
       "0    663\n",
       "1    113\n",
       "2    312\n",
       "3    139\n",
       "4    161\n",
       "Name: Dt_Customer, dtype: int64"
      ]
     },
     "execution_count": 12,
     "metadata": {},
     "output_type": "execute_result"
    }
   ],
   "source": [
    "# Convert Column from Object to DateTime\n",
    "df['Dt_Customer'] = pd.to_datetime(df['Dt_Customer'])\n",
    "\n",
    "# Calculate the maximum value as the base date\n",
    "base_date = df['Dt_Customer'].max()\n",
    "\n",
    "# Calculate the number of days by subtracting the base date\n",
    "df['Dt_Customer'] = (base_date - df['Dt_Customer']).dt.days\n",
    "\n",
    "df['Dt_Customer'].head()"
   ]
  },
  {
   "cell_type": "markdown",
   "id": "8d344ee4",
   "metadata": {},
   "source": [
    "### 👶👴 Get Customer Age"
   ]
  },
  {
   "cell_type": "code",
   "execution_count": 13,
   "id": "c97366b7",
   "metadata": {},
   "outputs": [],
   "source": [
    "df['Age'] = 2023 - df['Year_Birth']"
   ]
  },
  {
   "cell_type": "markdown",
   "id": "27bc9de4",
   "metadata": {},
   "source": [
    "### 🏫 Education"
   ]
  },
  {
   "cell_type": "code",
   "execution_count": 14,
   "id": "d5e3ed65",
   "metadata": {},
   "outputs": [
    {
     "name": "stdout",
     "output_type": "stream",
     "text": [
      "Unique values in Education column: ['Graduation' 'PhD' 'Master' 'Basic' '2n Cycle']\n"
     ]
    }
   ],
   "source": [
    "print(\"Unique values in Education column:\", df['Education'].unique())"
   ]
  },
  {
   "cell_type": "code",
   "execution_count": 15,
   "id": "79ab25c9",
   "metadata": {},
   "outputs": [],
   "source": [
    "def education_level(education):\n",
    "    if education in ['Graduation', 'PhD', 'Master']:\n",
    "        return 1\n",
    "    else:\n",
    "        return 0\n",
    "\n",
    "df['Education_Level'] = df['Education'].apply(education_level)"
   ]
  },
  {
   "cell_type": "markdown",
   "id": "c2fcff57",
   "metadata": {},
   "source": [
    "### 🏠 Living Conditions"
   ]
  },
  {
   "cell_type": "code",
   "execution_count": 16,
   "id": "b70f2268",
   "metadata": {},
   "outputs": [
    {
     "name": "stdout",
     "output_type": "stream",
     "text": [
      "Unique values in Marital_Status column: ['Single' 'Together' 'Married' 'Divorced' 'Widow' 'Alone' 'Absurd' 'YOLO']\n"
     ]
    }
   ],
   "source": [
    "print(\"Unique values in Marital_Status column:\", df['Marital_Status'].unique())"
   ]
  },
  {
   "cell_type": "code",
   "execution_count": 17,
   "id": "03aa701e",
   "metadata": {},
   "outputs": [],
   "source": [
    "def living_status(marital_status):\n",
    "    if marital_status in ['Alone', 'Absurd', 'YOLO']:\n",
    "        return 0\n",
    "    else:\n",
    "        return 1\n",
    "\n",
    "df['Living_Status'] = df['Marital_Status'].apply(living_status)"
   ]
  },
  {
   "cell_type": "markdown",
   "id": "ee6b1846",
   "metadata": {},
   "source": [
    "### Number of Campaigns Accepted"
   ]
  },
  {
   "cell_type": "code",
   "execution_count": 18,
   "id": "a7f1c97b",
   "metadata": {},
   "outputs": [],
   "source": [
    "df['Total_Campaigns_Accepted'] = df[['AcceptedCmp1', 'AcceptedCmp2', 'AcceptedCmp3', 'AcceptedCmp4', 'AcceptedCmp5']].sum(axis=1)"
   ]
  },
  {
   "cell_type": "markdown",
   "id": "b9739a0d",
   "metadata": {},
   "source": [
    "### 🔢 Average spend per purchase"
   ]
  },
  {
   "cell_type": "code",
   "execution_count": 19,
   "id": "7926636a",
   "metadata": {},
   "outputs": [],
   "source": [
    "df['Average_Spend'] = (df[['MntWines', 'MntFruits', 'MntMeatProducts', 'MntFishProducts', 'MntSweetProducts', 'MntGoldProds']].sum(axis=1)) / (df[['NumWebPurchases','NumCatalogPurchases', 'NumStorePurchases']].sum(axis=1))"
   ]
  },
  {
   "cell_type": "markdown",
   "id": "4b25873f",
   "metadata": {},
   "source": [
    "### 💰 Spent"
   ]
  },
  {
   "cell_type": "code",
   "execution_count": 20,
   "id": "aa6c35bf",
   "metadata": {},
   "outputs": [],
   "source": [
    "df['Spent'] = df['MntWines']+df[\"MntWines\"] +df['MntFruits']+ df['MntMeatProducts'] +df['MntFishProducts']+df['MntSweetProducts']+ df['MntGoldProds']"
   ]
  },
  {
   "cell_type": "markdown",
   "id": "f5df2367",
   "metadata": {},
   "source": [
    "### 👨‍👦‍👧 Parent Status"
   ]
  },
  {
   "cell_type": "code",
   "execution_count": 21,
   "id": "f90f7d5a",
   "metadata": {},
   "outputs": [],
   "source": [
    "df['Is_Parent'] = (df['Kidhome'] + df['Teenhome'] > 0).astype(int)"
   ]
  },
  {
   "cell_type": "markdown",
   "id": "f5784468",
   "metadata": {},
   "source": [
    "### 💳 1. Total spending in the last 2 years || 2. Average monthly visits to the company's website || 3. Ratio of online purchases to total purchases"
   ]
  },
  {
   "cell_type": "code",
   "execution_count": 22,
   "id": "4f398cc0",
   "metadata": {},
   "outputs": [],
   "source": [
    "# create new feature for total spending in the last 2 years\n",
    "df['total_spending'] = df['MntWines'] + df['MntFruits'] + df['MntMeatProducts'] + df['MntFishProducts'] + df['MntSweetProducts'] + df['MntGoldProds']\n",
    "\n",
    "# create new feature for average monthly visits to the company's website\n",
    "df['avg_web_visits'] = df['NumWebVisitsMonth'] / 12\n",
    "\n",
    "# create new feature for the ratio of online purchases to total purchases\n",
    "df['online_purchase_ratio'] = df['NumWebPurchases'] / (df['NumWebPurchases'] + df['NumCatalogPurchases'] + df['NumStorePurchases'])"
   ]
  },
  {
   "cell_type": "code",
   "execution_count": 23,
   "id": "a26fd82f",
   "metadata": {},
   "outputs": [
    {
     "data": {
      "text/html": [
       "<div>\n",
       "<style scoped>\n",
       "    .dataframe tbody tr th:only-of-type {\n",
       "        vertical-align: middle;\n",
       "    }\n",
       "\n",
       "    .dataframe tbody tr th {\n",
       "        vertical-align: top;\n",
       "    }\n",
       "\n",
       "    .dataframe thead th {\n",
       "        text-align: right;\n",
       "    }\n",
       "</style>\n",
       "<table border=\"1\" class=\"dataframe\">\n",
       "  <thead>\n",
       "    <tr style=\"text-align: right;\">\n",
       "      <th></th>\n",
       "      <th>ID</th>\n",
       "      <th>Year_Birth</th>\n",
       "      <th>Education</th>\n",
       "      <th>Marital_Status</th>\n",
       "      <th>Income</th>\n",
       "      <th>Kidhome</th>\n",
       "      <th>Teenhome</th>\n",
       "      <th>Dt_Customer</th>\n",
       "      <th>Recency</th>\n",
       "      <th>MntWines</th>\n",
       "      <th>MntFruits</th>\n",
       "      <th>MntMeatProducts</th>\n",
       "      <th>MntFishProducts</th>\n",
       "      <th>MntSweetProducts</th>\n",
       "      <th>MntGoldProds</th>\n",
       "      <th>NumDealsPurchases</th>\n",
       "      <th>NumWebPurchases</th>\n",
       "      <th>NumCatalogPurchases</th>\n",
       "      <th>NumStorePurchases</th>\n",
       "      <th>NumWebVisitsMonth</th>\n",
       "      <th>AcceptedCmp3</th>\n",
       "      <th>AcceptedCmp4</th>\n",
       "      <th>AcceptedCmp5</th>\n",
       "      <th>AcceptedCmp1</th>\n",
       "      <th>AcceptedCmp2</th>\n",
       "      <th>Complain</th>\n",
       "      <th>Z_CostContact</th>\n",
       "      <th>Z_Revenue</th>\n",
       "      <th>Response</th>\n",
       "      <th>Age</th>\n",
       "      <th>Education_Level</th>\n",
       "      <th>Living_Status</th>\n",
       "      <th>Total_Campaigns_Accepted</th>\n",
       "      <th>Average_Spend</th>\n",
       "      <th>Spent</th>\n",
       "      <th>Is_Parent</th>\n",
       "      <th>total_spending</th>\n",
       "      <th>avg_web_visits</th>\n",
       "      <th>online_purchase_ratio</th>\n",
       "    </tr>\n",
       "  </thead>\n",
       "  <tbody>\n",
       "    <tr>\n",
       "      <th>655</th>\n",
       "      <td>5555</td>\n",
       "      <td>1975</td>\n",
       "      <td>Graduation</td>\n",
       "      <td>Divorced</td>\n",
       "      <td>153924.0</td>\n",
       "      <td>0</td>\n",
       "      <td>0</td>\n",
       "      <td>142</td>\n",
       "      <td>81</td>\n",
       "      <td>1</td>\n",
       "      <td>1</td>\n",
       "      <td>1</td>\n",
       "      <td>1</td>\n",
       "      <td>1</td>\n",
       "      <td>1</td>\n",
       "      <td>0</td>\n",
       "      <td>0</td>\n",
       "      <td>0</td>\n",
       "      <td>0</td>\n",
       "      <td>0</td>\n",
       "      <td>0</td>\n",
       "      <td>0</td>\n",
       "      <td>0</td>\n",
       "      <td>0</td>\n",
       "      <td>0</td>\n",
       "      <td>0</td>\n",
       "      <td>3</td>\n",
       "      <td>11</td>\n",
       "      <td>0</td>\n",
       "      <td>48</td>\n",
       "      <td>1</td>\n",
       "      <td>1</td>\n",
       "      <td>0</td>\n",
       "      <td>inf</td>\n",
       "      <td>7</td>\n",
       "      <td>0</td>\n",
       "      <td>6</td>\n",
       "      <td>0.000000</td>\n",
       "      <td>NaN</td>\n",
       "    </tr>\n",
       "    <tr>\n",
       "      <th>981</th>\n",
       "      <td>3955</td>\n",
       "      <td>1965</td>\n",
       "      <td>Graduation</td>\n",
       "      <td>Divorced</td>\n",
       "      <td>4861.0</td>\n",
       "      <td>0</td>\n",
       "      <td>0</td>\n",
       "      <td>7</td>\n",
       "      <td>20</td>\n",
       "      <td>2</td>\n",
       "      <td>1</td>\n",
       "      <td>1</td>\n",
       "      <td>1</td>\n",
       "      <td>0</td>\n",
       "      <td>1</td>\n",
       "      <td>0</td>\n",
       "      <td>0</td>\n",
       "      <td>0</td>\n",
       "      <td>0</td>\n",
       "      <td>14</td>\n",
       "      <td>0</td>\n",
       "      <td>0</td>\n",
       "      <td>0</td>\n",
       "      <td>0</td>\n",
       "      <td>0</td>\n",
       "      <td>0</td>\n",
       "      <td>3</td>\n",
       "      <td>11</td>\n",
       "      <td>0</td>\n",
       "      <td>58</td>\n",
       "      <td>1</td>\n",
       "      <td>1</td>\n",
       "      <td>0</td>\n",
       "      <td>inf</td>\n",
       "      <td>8</td>\n",
       "      <td>0</td>\n",
       "      <td>6</td>\n",
       "      <td>1.166667</td>\n",
       "      <td>NaN</td>\n",
       "    </tr>\n",
       "    <tr>\n",
       "      <th>1245</th>\n",
       "      <td>6862</td>\n",
       "      <td>1971</td>\n",
       "      <td>Graduation</td>\n",
       "      <td>Divorced</td>\n",
       "      <td>1730.0</td>\n",
       "      <td>0</td>\n",
       "      <td>0</td>\n",
       "      <td>42</td>\n",
       "      <td>65</td>\n",
       "      <td>1</td>\n",
       "      <td>1</td>\n",
       "      <td>3</td>\n",
       "      <td>1</td>\n",
       "      <td>1</td>\n",
       "      <td>1</td>\n",
       "      <td>15</td>\n",
       "      <td>0</td>\n",
       "      <td>0</td>\n",
       "      <td>0</td>\n",
       "      <td>20</td>\n",
       "      <td>0</td>\n",
       "      <td>0</td>\n",
       "      <td>0</td>\n",
       "      <td>0</td>\n",
       "      <td>0</td>\n",
       "      <td>0</td>\n",
       "      <td>3</td>\n",
       "      <td>11</td>\n",
       "      <td>0</td>\n",
       "      <td>52</td>\n",
       "      <td>1</td>\n",
       "      <td>1</td>\n",
       "      <td>0</td>\n",
       "      <td>inf</td>\n",
       "      <td>9</td>\n",
       "      <td>0</td>\n",
       "      <td>8</td>\n",
       "      <td>1.666667</td>\n",
       "      <td>NaN</td>\n",
       "    </tr>\n",
       "    <tr>\n",
       "      <th>1524</th>\n",
       "      <td>11110</td>\n",
       "      <td>1973</td>\n",
       "      <td>Graduation</td>\n",
       "      <td>Single</td>\n",
       "      <td>3502.0</td>\n",
       "      <td>1</td>\n",
       "      <td>0</td>\n",
       "      <td>442</td>\n",
       "      <td>56</td>\n",
       "      <td>2</td>\n",
       "      <td>1</td>\n",
       "      <td>1</td>\n",
       "      <td>0</td>\n",
       "      <td>0</td>\n",
       "      <td>1</td>\n",
       "      <td>0</td>\n",
       "      <td>0</td>\n",
       "      <td>0</td>\n",
       "      <td>0</td>\n",
       "      <td>14</td>\n",
       "      <td>0</td>\n",
       "      <td>0</td>\n",
       "      <td>0</td>\n",
       "      <td>0</td>\n",
       "      <td>0</td>\n",
       "      <td>0</td>\n",
       "      <td>3</td>\n",
       "      <td>11</td>\n",
       "      <td>0</td>\n",
       "      <td>50</td>\n",
       "      <td>1</td>\n",
       "      <td>1</td>\n",
       "      <td>0</td>\n",
       "      <td>inf</td>\n",
       "      <td>7</td>\n",
       "      <td>1</td>\n",
       "      <td>5</td>\n",
       "      <td>1.166667</td>\n",
       "      <td>NaN</td>\n",
       "    </tr>\n",
       "    <tr>\n",
       "      <th>1846</th>\n",
       "      <td>9931</td>\n",
       "      <td>1963</td>\n",
       "      <td>PhD</td>\n",
       "      <td>Married</td>\n",
       "      <td>4023.0</td>\n",
       "      <td>1</td>\n",
       "      <td>1</td>\n",
       "      <td>6</td>\n",
       "      <td>29</td>\n",
       "      <td>5</td>\n",
       "      <td>0</td>\n",
       "      <td>1</td>\n",
       "      <td>1</td>\n",
       "      <td>1</td>\n",
       "      <td>1</td>\n",
       "      <td>15</td>\n",
       "      <td>0</td>\n",
       "      <td>0</td>\n",
       "      <td>0</td>\n",
       "      <td>19</td>\n",
       "      <td>0</td>\n",
       "      <td>0</td>\n",
       "      <td>0</td>\n",
       "      <td>0</td>\n",
       "      <td>0</td>\n",
       "      <td>0</td>\n",
       "      <td>3</td>\n",
       "      <td>11</td>\n",
       "      <td>0</td>\n",
       "      <td>60</td>\n",
       "      <td>1</td>\n",
       "      <td>1</td>\n",
       "      <td>0</td>\n",
       "      <td>inf</td>\n",
       "      <td>14</td>\n",
       "      <td>1</td>\n",
       "      <td>9</td>\n",
       "      <td>1.583333</td>\n",
       "      <td>NaN</td>\n",
       "    </tr>\n",
       "    <tr>\n",
       "      <th>2132</th>\n",
       "      <td>11181</td>\n",
       "      <td>1949</td>\n",
       "      <td>PhD</td>\n",
       "      <td>Married</td>\n",
       "      <td>156924.0</td>\n",
       "      <td>0</td>\n",
       "      <td>0</td>\n",
       "      <td>304</td>\n",
       "      <td>85</td>\n",
       "      <td>2</td>\n",
       "      <td>1</td>\n",
       "      <td>2</td>\n",
       "      <td>1</td>\n",
       "      <td>1</td>\n",
       "      <td>1</td>\n",
       "      <td>0</td>\n",
       "      <td>0</td>\n",
       "      <td>0</td>\n",
       "      <td>0</td>\n",
       "      <td>0</td>\n",
       "      <td>0</td>\n",
       "      <td>0</td>\n",
       "      <td>0</td>\n",
       "      <td>0</td>\n",
       "      <td>0</td>\n",
       "      <td>0</td>\n",
       "      <td>3</td>\n",
       "      <td>11</td>\n",
       "      <td>0</td>\n",
       "      <td>74</td>\n",
       "      <td>1</td>\n",
       "      <td>1</td>\n",
       "      <td>0</td>\n",
       "      <td>inf</td>\n",
       "      <td>10</td>\n",
       "      <td>0</td>\n",
       "      <td>8</td>\n",
       "      <td>0.000000</td>\n",
       "      <td>NaN</td>\n",
       "    </tr>\n",
       "  </tbody>\n",
       "</table>\n",
       "</div>"
      ],
      "text/plain": [
       "         ID  Year_Birth   Education Marital_Status    Income  Kidhome  \\\n",
       "655    5555        1975  Graduation       Divorced  153924.0        0   \n",
       "981    3955        1965  Graduation       Divorced    4861.0        0   \n",
       "1245   6862        1971  Graduation       Divorced    1730.0        0   \n",
       "1524  11110        1973  Graduation         Single    3502.0        1   \n",
       "1846   9931        1963         PhD        Married    4023.0        1   \n",
       "2132  11181        1949         PhD        Married  156924.0        0   \n",
       "\n",
       "      Teenhome  Dt_Customer  Recency  MntWines  MntFruits  MntMeatProducts  \\\n",
       "655          0          142       81         1          1                1   \n",
       "981          0            7       20         2          1                1   \n",
       "1245         0           42       65         1          1                3   \n",
       "1524         0          442       56         2          1                1   \n",
       "1846         1            6       29         5          0                1   \n",
       "2132         0          304       85         2          1                2   \n",
       "\n",
       "      MntFishProducts  MntSweetProducts  MntGoldProds  NumDealsPurchases  \\\n",
       "655                 1                 1             1                  0   \n",
       "981                 1                 0             1                  0   \n",
       "1245                1                 1             1                 15   \n",
       "1524                0                 0             1                  0   \n",
       "1846                1                 1             1                 15   \n",
       "2132                1                 1             1                  0   \n",
       "\n",
       "      NumWebPurchases  NumCatalogPurchases  NumStorePurchases  \\\n",
       "655                 0                    0                  0   \n",
       "981                 0                    0                  0   \n",
       "1245                0                    0                  0   \n",
       "1524                0                    0                  0   \n",
       "1846                0                    0                  0   \n",
       "2132                0                    0                  0   \n",
       "\n",
       "      NumWebVisitsMonth  AcceptedCmp3  AcceptedCmp4  AcceptedCmp5  \\\n",
       "655                   0             0             0             0   \n",
       "981                  14             0             0             0   \n",
       "1245                 20             0             0             0   \n",
       "1524                 14             0             0             0   \n",
       "1846                 19             0             0             0   \n",
       "2132                  0             0             0             0   \n",
       "\n",
       "      AcceptedCmp1  AcceptedCmp2  Complain  Z_CostContact  Z_Revenue  \\\n",
       "655              0             0         0              3         11   \n",
       "981              0             0         0              3         11   \n",
       "1245             0             0         0              3         11   \n",
       "1524             0             0         0              3         11   \n",
       "1846             0             0         0              3         11   \n",
       "2132             0             0         0              3         11   \n",
       "\n",
       "      Response  Age  Education_Level  Living_Status  Total_Campaigns_Accepted  \\\n",
       "655          0   48                1              1                         0   \n",
       "981          0   58                1              1                         0   \n",
       "1245         0   52                1              1                         0   \n",
       "1524         0   50                1              1                         0   \n",
       "1846         0   60                1              1                         0   \n",
       "2132         0   74                1              1                         0   \n",
       "\n",
       "      Average_Spend  Spent  Is_Parent  total_spending  avg_web_visits  \\\n",
       "655             inf      7          0               6        0.000000   \n",
       "981             inf      8          0               6        1.166667   \n",
       "1245            inf      9          0               8        1.666667   \n",
       "1524            inf      7          1               5        1.166667   \n",
       "1846            inf     14          1               9        1.583333   \n",
       "2132            inf     10          0               8        0.000000   \n",
       "\n",
       "      online_purchase_ratio  \n",
       "655                     NaN  \n",
       "981                     NaN  \n",
       "1245                    NaN  \n",
       "1524                    NaN  \n",
       "1846                    NaN  \n",
       "2132                    NaN  "
      ]
     },
     "execution_count": 23,
     "metadata": {},
     "output_type": "execute_result"
    }
   ],
   "source": [
    "# check to see if any customers made NO purchases\n",
    "df[df[['NumWebPurchases','NumCatalogPurchases', 'NumStorePurchases']].sum(axis=1) == 0]"
   ]
  },
  {
   "cell_type": "code",
   "execution_count": 24,
   "id": "673e9b91",
   "metadata": {},
   "outputs": [],
   "source": [
    "# if a customer made no purchases, the 'online_purchase_ratio' column will be NA, so replace with 0\n",
    "df = df.replace([np.nan, np.inf], 0)"
   ]
  },
  {
   "cell_type": "markdown",
   "id": "c49ba6b6",
   "metadata": {},
   "source": [
    "## ❌ Outliers"
   ]
  },
  {
   "cell_type": "code",
   "execution_count": 25,
   "id": "2a9a69f6",
   "metadata": {},
   "outputs": [
    {
     "data": {
      "image/png": "[encoded data removed]",
      "text/plain": [
       "<Figure size 1000x500 with 2 Axes>"
      ]
     },
     "metadata": {},
     "output_type": "display_data"
    }
   ],
   "source": [
    "# Plot the distribution of a column to visualize the outliers\n",
    "fig, ax = plt.subplots(1,2,figsize=(10,5))\n",
    "\n",
    "ax[0].set_title(f\"Income\")\n",
    "sns.boxplot(data = df, x = 'Income', ax=ax[0])\n",
    "\n",
    "ax[1].set_title(f\"Age\")\n",
    "sns.boxplot(data = df, x ='Age', ax=ax[1])\n",
    "\n",
    "plt.tight_layout()\n",
    "plt.show();"
   ]
  },
  {
   "cell_type": "code",
   "execution_count": 26,
   "id": "9b8504a7",
   "metadata": {},
   "outputs": [
    {
     "name": "stdout",
     "output_type": "stream",
     "text": [
      "Number of outliers in the Income column: 8\n"
     ]
    }
   ],
   "source": [
    "# Calculate the IQR for the Income column\n",
    "Q1 = df['Income'].quantile(0.25)\n",
    "Q3 = df['Income'].quantile(0.75)\n",
    "IQR = Q3 - Q1\n",
    "\n",
    "# Identify the outliers in the Income column\n",
    "outliers = df[(df['Income'] < (Q1 - 1.5 * IQR)) | (df['Income'] > (Q3 + 1.5 * IQR))]\n",
    "\n",
    "# Print the number of outliers\n",
    "print(\"Number of outliers in the Income column:\", len(outliers))"
   ]
  },
  {
   "cell_type": "code",
   "execution_count": 27,
   "id": "8341db31",
   "metadata": {},
   "outputs": [],
   "source": [
    "# Remove the outliers in the Income column\n",
    "df = df[~((df['Income'] < (Q1 - 1.5 * IQR)) | (df['Income'] > (Q3 + 1.5 * IQR)))]"
   ]
  },
  {
   "cell_type": "code",
   "execution_count": 28,
   "id": "b8cf161f",
   "metadata": {},
   "outputs": [
    {
     "name": "stdout",
     "output_type": "stream",
     "text": [
      "Number of outliers in the Age column: 3\n"
     ]
    }
   ],
   "source": [
    "# Calculate the IQR for the Age column\n",
    "Q1 = df['Age'].quantile(0.25)\n",
    "Q3 = df['Age'].quantile(0.75)\n",
    "IQR = Q3 - Q1\n",
    "\n",
    "# Identify the outliers in the Age column\n",
    "outliers = df[(df['Age'] < (Q1 - 1.5 * IQR)) | (df['Age'] > (Q3 + 1.5 * IQR))]\n",
    "\n",
    "# Print the number of outliers\n",
    "print(\"Number of outliers in the Age column:\", len(outliers))"
   ]
  },
  {
   "cell_type": "code",
   "execution_count": 29,
   "id": "63848935",
   "metadata": {},
   "outputs": [],
   "source": [
    "# Remove the outliers in the Age column\n",
    "df = df[~((df['Age'] < (Q1 - 1.5 * IQR)) | (df['Age'] > (Q3 + 1.5 * IQR)))]"
   ]
  },
  {
   "cell_type": "markdown",
   "id": "a47edb9c",
   "metadata": {},
   "source": [
    "# 📊 Visualize Customer Demographics"
   ]
  },
  {
   "cell_type": "code",
   "execution_count": 30,
   "id": "4ba8d7b9",
   "metadata": {},
   "outputs": [
    {
     "data": {
      "image/png": "[encoded data removed]",
      "text/plain": [
       "<Figure size 1500x800 with 6 Axes>"
      ]
     },
     "metadata": {},
     "output_type": "display_data"
    }
   ],
   "source": [
    "fig, ax = plt.subplots(3,2,figsize=(15,8))\n",
    "\n",
    "ax[0, 0].set_title(f\"Distribution of Age\")\n",
    "sns.histplot(data = df, x = 'Age', kde=True, ax = ax[0, 0])\n",
    "\n",
    "ax[0, 1].set_title(f\"Distribution of Income\")\n",
    "sns.histplot(data = df, x = 'Income', kde=True, ax=ax[0, 1]);\n",
    "\n",
    "ax[1, 0].set_title(f\"Marital Status\")\n",
    "sns.countplot(data = df, x = 'Marital_Status', ax=ax[1, 0])\n",
    "\n",
    "ax[1, 1].set_title(f\"Education\")\n",
    "sns.countplot(data = df, x = 'Education', ax=ax[1, 1])\n",
    "\n",
    "ax[2, 0].set_title(f\"Living Status\")\n",
    "sns.countplot(data = df, x = 'Living_Status', ax=ax[2, 0])\n",
    "\n",
    "ax[2, 1].set_title(f\"Family / Single\")\n",
    "sns.countplot(data = df, x = 'Is_Parent', ax=ax[2, 1])\n",
    "\n",
    "plt.tight_layout()\n",
    "plt.show();"
   ]
  },
  {
   "cell_type": "code",
   "execution_count": 31,
   "id": "7ef8828f",
   "metadata": {},
   "outputs": [
    {
     "data": {
      "text/plain": [
       "Index(['ID', 'Year_Birth', 'Education', 'Marital_Status', 'Income', 'Kidhome',\n",
       "       'Teenhome', 'Dt_Customer', 'Recency', 'MntWines', 'MntFruits',\n",
       "       'MntMeatProducts', 'MntFishProducts', 'MntSweetProducts',\n",
       "       'MntGoldProds', 'NumDealsPurchases', 'NumWebPurchases',\n",
       "       'NumCatalogPurchases', 'NumStorePurchases', 'NumWebVisitsMonth',\n",
       "       'AcceptedCmp3', 'AcceptedCmp4', 'AcceptedCmp5', 'AcceptedCmp1',\n",
       "       'AcceptedCmp2', 'Complain', 'Z_CostContact', 'Z_Revenue', 'Response',\n",
       "       'Age', 'Education_Level', 'Living_Status', 'Total_Campaigns_Accepted',\n",
       "       'Average_Spend', 'Spent', 'Is_Parent', 'total_spending',\n",
       "       'avg_web_visits', 'online_purchase_ratio'],\n",
       "      dtype='object')"
      ]
     },
     "execution_count": 31,
     "metadata": {},
     "output_type": "execute_result"
    }
   ],
   "source": [
    "df.columns"
   ]
  },
  {
   "cell_type": "code",
   "execution_count": 32,
   "id": "8412a075",
   "metadata": {},
   "outputs": [
    {
     "data": {
      "image/png": "[encoded data removed]",
      "text/plain": [
       "<Figure size 1600x800 with 6 Axes>"
      ]
     },
     "metadata": {},
     "output_type": "display_data"
    }
   ],
   "source": [
    "# check distribution of purchases, webstore visits, etc.\n",
    "\n",
    "columns = ['Total_Campaigns_Accepted', 'Average_Spend', 'Spent',\n",
    "           'total_spending', 'avg_web_visits', 'online_purchase_ratio']\n",
    "\n",
    "fig, ax = plt.subplots(2, 3, figsize=(16, 8))\n",
    "\n",
    "num_plots = len(columns)\n",
    "num_rows = (num_plots - 1) // 3 + 1\n",
    "\n",
    "for i, x in enumerate(columns):\n",
    "    row_index = i // 3  # Row index of the subplot\n",
    "    col_index = i % 3   # Column index of the subplot\n",
    "    ax[row_index, col_index].set_title(f\"Distribution of {x}\")\n",
    "    sns.histplot(data=df, x=x, ax=ax[row_index, col_index])\n",
    "\n",
    "# Remove any empty subplots\n",
    "if num_plots < num_rows * 3:\n",
    "    for j in range(num_plots, num_rows * 3):\n",
    "        fig.delaxes(ax[j // 3, j % 3])\n",
    "\n",
    "plt.tight_layout()\n",
    "plt.show()"
   ]
  },
  {
   "cell_type": "markdown",
   "id": "e9f35e0b",
   "metadata": {},
   "source": [
    "## Spending Distribution by Category"
   ]
  },
  {
   "cell_type": "code",
   "execution_count": 33,
   "id": "8e19dba1",
   "metadata": {},
   "outputs": [
    {
     "data": {
      "image/png": "[encoded data removed]",
      "text/plain": [
       "<Figure size 640x480 with 1 Axes>"
      ]
     },
     "metadata": {},
     "output_type": "display_data"
    }
   ],
   "source": [
    "sns.histplot(data=df, x='total_spending', hue='Education_Level');"
   ]
  },
  {
   "cell_type": "code",
   "execution_count": 34,
   "id": "755881f9",
   "metadata": {},
   "outputs": [
    {
     "data": {
      "image/png": "[encoded data removed]",
      "text/plain": [
       "<Figure size 640x480 with 1 Axes>"
      ]
     },
     "metadata": {},
     "output_type": "display_data"
    }
   ],
   "source": [
    "sns.histplot(data=df, x='total_spending', hue='Marital_Status');"
   ]
  },
  {
   "cell_type": "code",
   "execution_count": 35,
   "id": "4bbd7d85",
   "metadata": {},
   "outputs": [
    {
     "data": {
      "image/png": "[encoded data removed]",
      "text/plain": [
       "<Figure size 640x480 with 1 Axes>"
      ]
     },
     "metadata": {},
     "output_type": "display_data"
    }
   ],
   "source": [
    "sns.histplot(data=df, x='total_spending', hue='Is_Parent');"
   ]
  },
  {
   "cell_type": "markdown",
   "id": "879b5095",
   "metadata": {},
   "source": [
    "## Target Distribution"
   ]
  },
  {
   "cell_type": "code",
   "execution_count": 36,
   "id": "389516b6",
   "metadata": {},
   "outputs": [
    {
     "data": {
      "text/plain": [
       "0    0.850157\n",
       "1    0.149843\n",
       "Name: Response, dtype: float64"
      ]
     },
     "execution_count": 36,
     "metadata": {},
     "output_type": "execute_result"
    }
   ],
   "source": [
    "# check what percentage of customers ignored / responded to latest campaign\n",
    "df['Response'].value_counts()/df.shape[0]"
   ]
  },
  {
   "cell_type": "code",
   "execution_count": 37,
   "id": "20cae178",
   "metadata": {
    "scrolled": true
   },
   "outputs": [
    {
     "data": {
      "image/png": "[encoded data removed]",
      "text/plain": [
       "<Figure size 640x480 with 1 Axes>"
      ]
     },
     "metadata": {},
     "output_type": "display_data"
    }
   ],
   "source": [
    "sns.countplot(data = df, x = 'Response');"
   ]
  },
  {
   "cell_type": "markdown",
   "id": "dd59f4cc",
   "metadata": {},
   "source": [
    "# 🐣 Baseline Model - Most Frequent"
   ]
  },
  {
   "cell_type": "code",
   "execution_count": 38,
   "id": "e1ac91a8",
   "metadata": {},
   "outputs": [
    {
     "data": {
      "text/plain": [
       "2229"
      ]
     },
     "execution_count": 38,
     "metadata": {},
     "output_type": "execute_result"
    }
   ],
   "source": [
    "len(df)"
   ]
  },
  {
   "cell_type": "code",
   "execution_count": 39,
   "id": "2b4d771e",
   "metadata": {},
   "outputs": [
    {
     "data": {
      "text/plain": [
       "0    1895\n",
       "1     334\n",
       "Name: Response, dtype: int64"
      ]
     },
     "execution_count": 39,
     "metadata": {},
     "output_type": "execute_result"
    }
   ],
   "source": [
    "df['Response'].value_counts()"
   ]
  },
  {
   "cell_type": "code",
   "execution_count": 40,
   "id": "e2e7b2c6",
   "metadata": {},
   "outputs": [
    {
     "data": {
      "text/plain": [
       "0    0\n",
       "1    0\n",
       "2    0\n",
       "3    0\n",
       "4    0\n",
       "dtype: int64"
      ]
     },
     "execution_count": 40,
     "metadata": {},
     "output_type": "execute_result"
    }
   ],
   "source": [
    "target_pred_baseline = pd.Series([0]*len(df))\n",
    "target_pred_baseline.head()"
   ]
  },
  {
   "cell_type": "code",
   "execution_count": 41,
   "id": "dbf5a68c",
   "metadata": {},
   "outputs": [
    {
     "data": {
      "image/png": "[encoded data removed]",
      "text/plain": [
       "<Figure size 640x480 with 2 Axes>"
      ]
     },
     "metadata": {},
     "output_type": "display_data"
    }
   ],
   "source": [
    "cm = confusion_matrix(df['Response'], target_pred_baseline, labels=[0,1])\n",
    "disp = ConfusionMatrixDisplay(confusion_matrix=cm, display_labels=[0,1])\n",
    "disp.plot()\n",
    "plt.show()"
   ]
  },
  {
   "cell_type": "code",
   "execution_count": 42,
   "id": "247160ef",
   "metadata": {},
   "outputs": [
    {
     "data": {
      "text/plain": [
       "0.8501570210856887"
      ]
     },
     "execution_count": 42,
     "metadata": {},
     "output_type": "execute_result"
    }
   ],
   "source": [
    "accuracy_score(df['Response'], target_pred_baseline)"
   ]
  },
  {
   "cell_type": "code",
   "execution_count": 71,
   "id": "e25d3f4a",
   "metadata": {},
   "outputs": [
    {
     "name": "stdout",
     "output_type": "stream",
     "text": [
      "              precision    recall  f1-score   support\n",
      "\n",
      "           0       0.85      1.00      0.92      1895\n",
      "           1       0.00      0.00      0.00       334\n",
      "\n",
      "    accuracy                           0.85      2229\n",
      "   macro avg       0.43      0.50      0.46      2229\n",
      "weighted avg       0.72      0.85      0.78      2229\n",
      "\n"
     ]
    },
    {
     "name": "stderr",
     "output_type": "stream",
     "text": [
      "/home/jccarville/.pyenv/versions/3.10.6/envs/lewagon/lib/python3.10/site-packages/sklearn/metrics/_classification.py:1344: UndefinedMetricWarning: Precision and F-score are ill-defined and being set to 0.0 in labels with no predicted samples. Use `zero_division` parameter to control this behavior.\n",
      "  _warn_prf(average, modifier, msg_start, len(result))\n",
      "/home/jccarville/.pyenv/versions/3.10.6/envs/lewagon/lib/python3.10/site-packages/sklearn/metrics/_classification.py:1344: UndefinedMetricWarning: Precision and F-score are ill-defined and being set to 0.0 in labels with no predicted samples. Use `zero_division` parameter to control this behavior.\n",
      "  _warn_prf(average, modifier, msg_start, len(result))\n",
      "/home/jccarville/.pyenv/versions/3.10.6/envs/lewagon/lib/python3.10/site-packages/sklearn/metrics/_classification.py:1344: UndefinedMetricWarning: Precision and F-score are ill-defined and being set to 0.0 in labels with no predicted samples. Use `zero_division` parameter to control this behavior.\n",
      "  _warn_prf(average, modifier, msg_start, len(result))\n"
     ]
    }
   ],
   "source": [
    "print(classification_report(df['Response'], target_pred_baseline))"
   ]
  },
  {
   "cell_type": "markdown",
   "id": "c4a74028",
   "metadata": {},
   "source": [
    "### 💭 Comment\n",
    "\n",
    "- The vast majority of customers did not respond to the latest campaign offer\n",
    "- So by taking the most frequent response, we achieved an accuracy score of 85%\n",
    "- **HOWEVER! This means we did NOT classify any of the customers who DID respond to the campaign offer.**\n",
    "- Let's see if we can make a classification model that performs significantly better!"
   ]
  },
  {
   "cell_type": "markdown",
   "id": "0d219a71",
   "metadata": {},
   "source": [
    "# Pipeline"
   ]
  },
  {
   "cell_type": "markdown",
   "id": "8962b35c",
   "metadata": {},
   "source": [
    "## 🎯 Define features and target"
   ]
  },
  {
   "cell_type": "code",
   "execution_count": 43,
   "id": "68bc6994",
   "metadata": {},
   "outputs": [
    {
     "data": {
      "text/plain": [
       "Index(['ID', 'Year_Birth', 'Education', 'Marital_Status', 'Income', 'Kidhome',\n",
       "       'Teenhome', 'Dt_Customer', 'Recency', 'MntWines', 'MntFruits',\n",
       "       'MntMeatProducts', 'MntFishProducts', 'MntSweetProducts',\n",
       "       'MntGoldProds', 'NumDealsPurchases', 'NumWebPurchases',\n",
       "       'NumCatalogPurchases', 'NumStorePurchases', 'NumWebVisitsMonth',\n",
       "       'AcceptedCmp3', 'AcceptedCmp4', 'AcceptedCmp5', 'AcceptedCmp1',\n",
       "       'AcceptedCmp2', 'Complain', 'Z_CostContact', 'Z_Revenue', 'Response',\n",
       "       'Age', 'Education_Level', 'Living_Status', 'Total_Campaigns_Accepted',\n",
       "       'Average_Spend', 'Spent', 'Is_Parent', 'total_spending',\n",
       "       'avg_web_visits', 'online_purchase_ratio'],\n",
       "      dtype='object')"
      ]
     },
     "execution_count": 43,
     "metadata": {},
     "output_type": "execute_result"
    }
   ],
   "source": [
    "df.columns"
   ]
  },
  {
   "cell_type": "code",
   "execution_count": 44,
   "id": "369213d7",
   "metadata": {},
   "outputs": [],
   "source": [
    "X = df[['Income', 'Kidhome', 'Teenhome', 'Dt_Customer', 'Recency', 'MntWines', 'MntFruits',\n",
    "       'MntMeatProducts', 'MntFishProducts', 'MntSweetProducts',\n",
    "       'MntGoldProds', 'NumDealsPurchases', 'NumWebPurchases',\n",
    "       'NumCatalogPurchases', 'NumStorePurchases', 'NumWebVisitsMonth',\n",
    "       'Complain', 'Age', 'Education_Level', 'Living_Status', 'Total_Campaigns_Accepted',\n",
    "       'Average_Spend', 'Spent', 'Is_Parent', 'total_spending',\n",
    "       'avg_web_visits', 'online_purchase_ratio']]\n",
    "y = df['Response']"
   ]
  },
  {
   "cell_type": "code",
   "execution_count": 45,
   "id": "b7cd675c",
   "metadata": {},
   "outputs": [
    {
     "data": {
      "text/plain": [
       "((2229, 27), (2229,))"
      ]
     },
     "execution_count": 45,
     "metadata": {},
     "output_type": "execute_result"
    }
   ],
   "source": [
    "X.shape, y.shape"
   ]
  },
  {
   "cell_type": "code",
   "execution_count": 46,
   "id": "f1e0fb38",
   "metadata": {},
   "outputs": [
    {
     "data": {
      "text/plain": [
       "int64      23\n",
       "float64     4\n",
       "dtype: int64"
      ]
     },
     "execution_count": 46,
     "metadata": {},
     "output_type": "execute_result"
    }
   ],
   "source": [
    "X.dtypes.value_counts()"
   ]
  },
  {
   "cell_type": "code",
   "execution_count": 47,
   "id": "9ccaeb81",
   "metadata": {},
   "outputs": [
    {
     "data": {
      "text/html": [
       "<div>\n",
       "<style scoped>\n",
       "    .dataframe tbody tr th:only-of-type {\n",
       "        vertical-align: middle;\n",
       "    }\n",
       "\n",
       "    .dataframe tbody tr th {\n",
       "        vertical-align: top;\n",
       "    }\n",
       "\n",
       "    .dataframe thead th {\n",
       "        text-align: right;\n",
       "    }\n",
       "</style>\n",
       "<table border=\"1\" class=\"dataframe\">\n",
       "  <thead>\n",
       "    <tr style=\"text-align: right;\">\n",
       "      <th></th>\n",
       "      <th>Income</th>\n",
       "      <th>Kidhome</th>\n",
       "      <th>Teenhome</th>\n",
       "      <th>Dt_Customer</th>\n",
       "      <th>Recency</th>\n",
       "      <th>MntWines</th>\n",
       "      <th>MntFruits</th>\n",
       "      <th>MntMeatProducts</th>\n",
       "      <th>MntFishProducts</th>\n",
       "      <th>MntSweetProducts</th>\n",
       "      <th>MntGoldProds</th>\n",
       "      <th>NumDealsPurchases</th>\n",
       "      <th>NumWebPurchases</th>\n",
       "      <th>NumCatalogPurchases</th>\n",
       "      <th>NumStorePurchases</th>\n",
       "      <th>NumWebVisitsMonth</th>\n",
       "      <th>Complain</th>\n",
       "      <th>Age</th>\n",
       "      <th>Education_Level</th>\n",
       "      <th>Living_Status</th>\n",
       "      <th>Total_Campaigns_Accepted</th>\n",
       "      <th>Average_Spend</th>\n",
       "      <th>Spent</th>\n",
       "      <th>Is_Parent</th>\n",
       "      <th>total_spending</th>\n",
       "      <th>avg_web_visits</th>\n",
       "      <th>online_purchase_ratio</th>\n",
       "    </tr>\n",
       "  </thead>\n",
       "  <tbody>\n",
       "    <tr>\n",
       "      <th>0</th>\n",
       "      <td>58138.0</td>\n",
       "      <td>0</td>\n",
       "      <td>0</td>\n",
       "      <td>663</td>\n",
       "      <td>58</td>\n",
       "      <td>635</td>\n",
       "      <td>88</td>\n",
       "      <td>546</td>\n",
       "      <td>172</td>\n",
       "      <td>88</td>\n",
       "      <td>88</td>\n",
       "      <td>3</td>\n",
       "      <td>8</td>\n",
       "      <td>10</td>\n",
       "      <td>4</td>\n",
       "      <td>7</td>\n",
       "      <td>0</td>\n",
       "      <td>66</td>\n",
       "      <td>1</td>\n",
       "      <td>1</td>\n",
       "      <td>0</td>\n",
       "      <td>73.500000</td>\n",
       "      <td>2252</td>\n",
       "      <td>0</td>\n",
       "      <td>1617</td>\n",
       "      <td>0.583333</td>\n",
       "      <td>0.363636</td>\n",
       "    </tr>\n",
       "    <tr>\n",
       "      <th>1</th>\n",
       "      <td>46344.0</td>\n",
       "      <td>1</td>\n",
       "      <td>1</td>\n",
       "      <td>113</td>\n",
       "      <td>38</td>\n",
       "      <td>11</td>\n",
       "      <td>1</td>\n",
       "      <td>6</td>\n",
       "      <td>2</td>\n",
       "      <td>1</td>\n",
       "      <td>6</td>\n",
       "      <td>2</td>\n",
       "      <td>1</td>\n",
       "      <td>1</td>\n",
       "      <td>2</td>\n",
       "      <td>5</td>\n",
       "      <td>0</td>\n",
       "      <td>69</td>\n",
       "      <td>1</td>\n",
       "      <td>1</td>\n",
       "      <td>0</td>\n",
       "      <td>6.750000</td>\n",
       "      <td>38</td>\n",
       "      <td>1</td>\n",
       "      <td>27</td>\n",
       "      <td>0.416667</td>\n",
       "      <td>0.250000</td>\n",
       "    </tr>\n",
       "    <tr>\n",
       "      <th>2</th>\n",
       "      <td>71613.0</td>\n",
       "      <td>0</td>\n",
       "      <td>0</td>\n",
       "      <td>312</td>\n",
       "      <td>26</td>\n",
       "      <td>426</td>\n",
       "      <td>49</td>\n",
       "      <td>127</td>\n",
       "      <td>111</td>\n",
       "      <td>21</td>\n",
       "      <td>42</td>\n",
       "      <td>1</td>\n",
       "      <td>8</td>\n",
       "      <td>2</td>\n",
       "      <td>10</td>\n",
       "      <td>4</td>\n",
       "      <td>0</td>\n",
       "      <td>58</td>\n",
       "      <td>1</td>\n",
       "      <td>1</td>\n",
       "      <td>0</td>\n",
       "      <td>38.800000</td>\n",
       "      <td>1202</td>\n",
       "      <td>0</td>\n",
       "      <td>776</td>\n",
       "      <td>0.333333</td>\n",
       "      <td>0.400000</td>\n",
       "    </tr>\n",
       "    <tr>\n",
       "      <th>3</th>\n",
       "      <td>26646.0</td>\n",
       "      <td>1</td>\n",
       "      <td>0</td>\n",
       "      <td>139</td>\n",
       "      <td>26</td>\n",
       "      <td>11</td>\n",
       "      <td>4</td>\n",
       "      <td>20</td>\n",
       "      <td>10</td>\n",
       "      <td>3</td>\n",
       "      <td>5</td>\n",
       "      <td>2</td>\n",
       "      <td>2</td>\n",
       "      <td>0</td>\n",
       "      <td>4</td>\n",
       "      <td>6</td>\n",
       "      <td>0</td>\n",
       "      <td>39</td>\n",
       "      <td>1</td>\n",
       "      <td>1</td>\n",
       "      <td>0</td>\n",
       "      <td>8.833333</td>\n",
       "      <td>64</td>\n",
       "      <td>1</td>\n",
       "      <td>53</td>\n",
       "      <td>0.500000</td>\n",
       "      <td>0.333333</td>\n",
       "    </tr>\n",
       "    <tr>\n",
       "      <th>4</th>\n",
       "      <td>58293.0</td>\n",
       "      <td>1</td>\n",
       "      <td>0</td>\n",
       "      <td>161</td>\n",
       "      <td>94</td>\n",
       "      <td>173</td>\n",
       "      <td>43</td>\n",
       "      <td>118</td>\n",
       "      <td>46</td>\n",
       "      <td>27</td>\n",
       "      <td>15</td>\n",
       "      <td>5</td>\n",
       "      <td>5</td>\n",
       "      <td>3</td>\n",
       "      <td>6</td>\n",
       "      <td>5</td>\n",
       "      <td>0</td>\n",
       "      <td>42</td>\n",
       "      <td>1</td>\n",
       "      <td>1</td>\n",
       "      <td>0</td>\n",
       "      <td>30.142857</td>\n",
       "      <td>595</td>\n",
       "      <td>1</td>\n",
       "      <td>422</td>\n",
       "      <td>0.416667</td>\n",
       "      <td>0.357143</td>\n",
       "    </tr>\n",
       "  </tbody>\n",
       "</table>\n",
       "</div>"
      ],
      "text/plain": [
       "    Income  Kidhome  Teenhome  Dt_Customer  Recency  MntWines  MntFruits  \\\n",
       "0  58138.0        0         0          663       58       635         88   \n",
       "1  46344.0        1         1          113       38        11          1   \n",
       "2  71613.0        0         0          312       26       426         49   \n",
       "3  26646.0        1         0          139       26        11          4   \n",
       "4  58293.0        1         0          161       94       173         43   \n",
       "\n",
       "   MntMeatProducts  MntFishProducts  MntSweetProducts  MntGoldProds  \\\n",
       "0              546              172                88            88   \n",
       "1                6                2                 1             6   \n",
       "2              127              111                21            42   \n",
       "3               20               10                 3             5   \n",
       "4              118               46                27            15   \n",
       "\n",
       "   NumDealsPurchases  NumWebPurchases  NumCatalogPurchases  NumStorePurchases  \\\n",
       "0                  3                8                   10                  4   \n",
       "1                  2                1                    1                  2   \n",
       "2                  1                8                    2                 10   \n",
       "3                  2                2                    0                  4   \n",
       "4                  5                5                    3                  6   \n",
       "\n",
       "   NumWebVisitsMonth  Complain  Age  Education_Level  Living_Status  \\\n",
       "0                  7         0   66                1              1   \n",
       "1                  5         0   69                1              1   \n",
       "2                  4         0   58                1              1   \n",
       "3                  6         0   39                1              1   \n",
       "4                  5         0   42                1              1   \n",
       "\n",
       "   Total_Campaigns_Accepted  Average_Spend  Spent  Is_Parent  total_spending  \\\n",
       "0                         0      73.500000   2252          0            1617   \n",
       "1                         0       6.750000     38          1              27   \n",
       "2                         0      38.800000   1202          0             776   \n",
       "3                         0       8.833333     64          1              53   \n",
       "4                         0      30.142857    595          1             422   \n",
       "\n",
       "   avg_web_visits  online_purchase_ratio  \n",
       "0        0.583333               0.363636  \n",
       "1        0.416667               0.250000  \n",
       "2        0.333333               0.400000  \n",
       "3        0.500000               0.333333  \n",
       "4        0.416667               0.357143  "
      ]
     },
     "execution_count": 47,
     "metadata": {},
     "output_type": "execute_result"
    }
   ],
   "source": [
    "X.head()"
   ]
  },
  {
   "cell_type": "markdown",
   "id": "a7113f15",
   "metadata": {},
   "source": [
    "## ✂️ Holdout method"
   ]
  },
  {
   "cell_type": "code",
   "execution_count": 131,
   "id": "6832f37c",
   "metadata": {},
   "outputs": [
    {
     "data": {
      "text/plain": [
       "((1560, 27), (669, 27), (1560,), (669,))"
      ]
     },
     "execution_count": 131,
     "metadata": {},
     "output_type": "execute_result"
    }
   ],
   "source": [
    "X_train, X_test, y_train, y_test = train_test_split(X, y, test_size=.3, random_state=22)\n",
    "\n",
    "X_train.shape, X_test.shape, y_train.shape, y_test.shape"
   ]
  },
  {
   "cell_type": "markdown",
   "id": "b5c062ad",
   "metadata": {},
   "source": [
    "## 🔢 Scaling numerical features"
   ]
  },
  {
   "cell_type": "code",
   "execution_count": 84,
   "id": "cdf2393a",
   "metadata": {},
   "outputs": [
    {
     "data": {
      "text/html": [
       "<div>\n",
       "<style scoped>\n",
       "    .dataframe tbody tr th:only-of-type {\n",
       "        vertical-align: middle;\n",
       "    }\n",
       "\n",
       "    .dataframe tbody tr th {\n",
       "        vertical-align: top;\n",
       "    }\n",
       "\n",
       "    .dataframe thead th {\n",
       "        text-align: right;\n",
       "    }\n",
       "</style>\n",
       "<table border=\"1\" class=\"dataframe\">\n",
       "  <thead>\n",
       "    <tr style=\"text-align: right;\">\n",
       "      <th></th>\n",
       "      <th>Income</th>\n",
       "      <th>Kidhome</th>\n",
       "      <th>Teenhome</th>\n",
       "      <th>Dt_Customer</th>\n",
       "      <th>Recency</th>\n",
       "      <th>MntWines</th>\n",
       "      <th>MntFruits</th>\n",
       "      <th>MntMeatProducts</th>\n",
       "      <th>MntFishProducts</th>\n",
       "      <th>MntSweetProducts</th>\n",
       "      <th>MntGoldProds</th>\n",
       "      <th>NumDealsPurchases</th>\n",
       "      <th>NumWebPurchases</th>\n",
       "      <th>NumCatalogPurchases</th>\n",
       "      <th>NumStorePurchases</th>\n",
       "      <th>NumWebVisitsMonth</th>\n",
       "      <th>Complain</th>\n",
       "      <th>Age</th>\n",
       "      <th>Education_Level</th>\n",
       "      <th>Living_Status</th>\n",
       "      <th>Total_Campaigns_Accepted</th>\n",
       "      <th>Average_Spend</th>\n",
       "      <th>Spent</th>\n",
       "      <th>Is_Parent</th>\n",
       "      <th>total_spending</th>\n",
       "      <th>avg_web_visits</th>\n",
       "      <th>online_purchase_ratio</th>\n",
       "    </tr>\n",
       "  </thead>\n",
       "  <tbody>\n",
       "    <tr>\n",
       "      <th>0</th>\n",
       "      <td>1.146671</td>\n",
       "      <td>-0.832968</td>\n",
       "      <td>-0.923069</td>\n",
       "      <td>0.801629</td>\n",
       "      <td>-1.101775</td>\n",
       "      <td>-0.001395</td>\n",
       "      <td>1.778071</td>\n",
       "      <td>0.277749</td>\n",
       "      <td>2.036422</td>\n",
       "      <td>1.161261</td>\n",
       "      <td>0.621043</td>\n",
       "      <td>-0.682019</td>\n",
       "      <td>0.734205</td>\n",
       "      <td>0.125628</td>\n",
       "      <td>2.230629</td>\n",
       "      <td>-0.951813</td>\n",
       "      <td>-0.098533</td>\n",
       "      <td>1.456215</td>\n",
       "      <td>0.347404</td>\n",
       "      <td>0.050702</td>\n",
       "      <td>-0.440278</td>\n",
       "      <td>0.076959</td>\n",
       "      <td>0.351054</td>\n",
       "      <td>-1.544004</td>\n",
       "      <td>0.533054</td>\n",
       "      <td>-0.951813</td>\n",
       "      <td>-0.466173</td>\n",
       "    </tr>\n",
       "    <tr>\n",
       "      <th>1</th>\n",
       "      <td>0.667713</td>\n",
       "      <td>-0.832968</td>\n",
       "      <td>0.906648</td>\n",
       "      <td>-0.204402</td>\n",
       "      <td>-0.204336</td>\n",
       "      <td>-0.060793</td>\n",
       "      <td>-0.582687</td>\n",
       "      <td>-0.368204</td>\n",
       "      <td>-0.616605</td>\n",
       "      <td>-0.485775</td>\n",
       "      <td>-0.389948</td>\n",
       "      <td>-0.169519</td>\n",
       "      <td>-0.015867</td>\n",
       "      <td>-0.228765</td>\n",
       "      <td>0.686119</td>\n",
       "      <td>-0.542431</td>\n",
       "      <td>-0.098533</td>\n",
       "      <td>-0.428299</td>\n",
       "      <td>0.347404</td>\n",
       "      <td>0.050702</td>\n",
       "      <td>-0.440278</td>\n",
       "      <td>-0.183424</td>\n",
       "      <td>-0.239408</td>\n",
       "      <td>0.647667</td>\n",
       "      <td>-0.329374</td>\n",
       "      <td>-0.542431</td>\n",
       "      <td>-0.357544</td>\n",
       "    </tr>\n",
       "    <tr>\n",
       "      <th>2</th>\n",
       "      <td>1.039598</td>\n",
       "      <td>-0.832968</td>\n",
       "      <td>0.906648</td>\n",
       "      <td>-0.253717</td>\n",
       "      <td>-0.445954</td>\n",
       "      <td>0.313410</td>\n",
       "      <td>2.125972</td>\n",
       "      <td>1.118373</td>\n",
       "      <td>-0.689291</td>\n",
       "      <td>1.357922</td>\n",
       "      <td>0.561573</td>\n",
       "      <td>-0.682019</td>\n",
       "      <td>1.859313</td>\n",
       "      <td>0.125628</td>\n",
       "      <td>2.230629</td>\n",
       "      <td>-0.542431</td>\n",
       "      <td>-0.098533</td>\n",
       "      <td>1.884514</td>\n",
       "      <td>0.347404</td>\n",
       "      <td>0.050702</td>\n",
       "      <td>-0.440278</td>\n",
       "      <td>0.106760</td>\n",
       "      <td>0.644660</td>\n",
       "      <td>0.647667</td>\n",
       "      <td>0.804103</td>\n",
       "      <td>-0.542431</td>\n",
       "      <td>0.263809</td>\n",
       "    </tr>\n",
       "    <tr>\n",
       "      <th>3</th>\n",
       "      <td>-0.316066</td>\n",
       "      <td>1.020712</td>\n",
       "      <td>0.906648</td>\n",
       "      <td>1.018616</td>\n",
       "      <td>-0.480471</td>\n",
       "      <td>-0.847807</td>\n",
       "      <td>-0.632387</td>\n",
       "      <td>-0.664634</td>\n",
       "      <td>-0.652948</td>\n",
       "      <td>-0.657853</td>\n",
       "      <td>-0.806239</td>\n",
       "      <td>-0.682019</td>\n",
       "      <td>-1.140975</td>\n",
       "      <td>-0.937550</td>\n",
       "      <td>-0.858391</td>\n",
       "      <td>1.095097</td>\n",
       "      <td>-0.098533</td>\n",
       "      <td>-0.942257</td>\n",
       "      <td>0.347404</td>\n",
       "      <td>0.050702</td>\n",
       "      <td>-0.440278</td>\n",
       "      <td>-0.547897</td>\n",
       "      <td>-0.920877</td>\n",
       "      <td>0.647667</td>\n",
       "      <td>-0.927324</td>\n",
       "      <td>1.095097</td>\n",
       "      <td>-0.656272</td>\n",
       "    </tr>\n",
       "    <tr>\n",
       "      <th>4</th>\n",
       "      <td>1.354882</td>\n",
       "      <td>-0.832968</td>\n",
       "      <td>-0.923069</td>\n",
       "      <td>-1.506325</td>\n",
       "      <td>0.727620</td>\n",
       "      <td>0.135218</td>\n",
       "      <td>0.833768</td>\n",
       "      <td>1.773174</td>\n",
       "      <td>1.309565</td>\n",
       "      <td>2.611635</td>\n",
       "      <td>2.028502</td>\n",
       "      <td>-0.682019</td>\n",
       "      <td>0.359169</td>\n",
       "      <td>1.188805</td>\n",
       "      <td>0.377217</td>\n",
       "      <td>-1.361196</td>\n",
       "      <td>-0.098533</td>\n",
       "      <td>-0.342639</td>\n",
       "      <td>0.347404</td>\n",
       "      <td>0.050702</td>\n",
       "      <td>1.030458</td>\n",
       "      <td>0.732907</td>\n",
       "      <td>0.873261</td>\n",
       "      <td>-1.544004</td>\n",
       "      <td>1.249280</td>\n",
       "      <td>-1.361196</td>\n",
       "      <td>-0.423928</td>\n",
       "    </tr>\n",
       "  </tbody>\n",
       "</table>\n",
       "</div>"
      ],
      "text/plain": [
       "     Income   Kidhome  Teenhome  Dt_Customer   Recency  MntWines  MntFruits  \\\n",
       "0  1.146671 -0.832968 -0.923069     0.801629 -1.101775 -0.001395   1.778071   \n",
       "1  0.667713 -0.832968  0.906648    -0.204402 -0.204336 -0.060793  -0.582687   \n",
       "2  1.039598 -0.832968  0.906648    -0.253717 -0.445954  0.313410   2.125972   \n",
       "3 -0.316066  1.020712  0.906648     1.018616 -0.480471 -0.847807  -0.632387   \n",
       "4  1.354882 -0.832968 -0.923069    -1.506325  0.727620  0.135218   0.833768   \n",
       "\n",
       "   MntMeatProducts  MntFishProducts  MntSweetProducts  MntGoldProds  \\\n",
       "0         0.277749         2.036422          1.161261      0.621043   \n",
       "1        -0.368204        -0.616605         -0.485775     -0.389948   \n",
       "2         1.118373        -0.689291          1.357922      0.561573   \n",
       "3        -0.664634        -0.652948         -0.657853     -0.806239   \n",
       "4         1.773174         1.309565          2.611635      2.028502   \n",
       "\n",
       "   NumDealsPurchases  NumWebPurchases  NumCatalogPurchases  NumStorePurchases  \\\n",
       "0          -0.682019         0.734205             0.125628           2.230629   \n",
       "1          -0.169519        -0.015867            -0.228765           0.686119   \n",
       "2          -0.682019         1.859313             0.125628           2.230629   \n",
       "3          -0.682019        -1.140975            -0.937550          -0.858391   \n",
       "4          -0.682019         0.359169             1.188805           0.377217   \n",
       "\n",
       "   NumWebVisitsMonth  Complain       Age  Education_Level  Living_Status  \\\n",
       "0          -0.951813 -0.098533  1.456215         0.347404       0.050702   \n",
       "1          -0.542431 -0.098533 -0.428299         0.347404       0.050702   \n",
       "2          -0.542431 -0.098533  1.884514         0.347404       0.050702   \n",
       "3           1.095097 -0.098533 -0.942257         0.347404       0.050702   \n",
       "4          -1.361196 -0.098533 -0.342639         0.347404       0.050702   \n",
       "\n",
       "   Total_Campaigns_Accepted  Average_Spend     Spent  Is_Parent  \\\n",
       "0                 -0.440278       0.076959  0.351054  -1.544004   \n",
       "1                 -0.440278      -0.183424 -0.239408   0.647667   \n",
       "2                 -0.440278       0.106760  0.644660   0.647667   \n",
       "3                 -0.440278      -0.547897 -0.920877   0.647667   \n",
       "4                  1.030458       0.732907  0.873261  -1.544004   \n",
       "\n",
       "   total_spending  avg_web_visits  online_purchase_ratio  \n",
       "0        0.533054       -0.951813              -0.466173  \n",
       "1       -0.329374       -0.542431              -0.357544  \n",
       "2        0.804103       -0.542431               0.263809  \n",
       "3       -0.927324        1.095097              -0.656272  \n",
       "4        1.249280       -1.361196              -0.423928  "
      ]
     },
     "execution_count": 84,
     "metadata": {},
     "output_type": "execute_result"
    }
   ],
   "source": [
    "num_scaler = StandardScaler()\n",
    "num_scaler.fit(X_train)\n",
    "X_train_scaled = pd.DataFrame(num_scaler.transform(X_train),\n",
    "                              columns = num_scaler.get_feature_names_out())\n",
    "X_train_scaled.head()"
   ]
  },
  {
   "cell_type": "code",
   "execution_count": 85,
   "id": "681caad4",
   "metadata": {},
   "outputs": [
    {
     "data": {
      "text/html": [
       "<div>\n",
       "<style scoped>\n",
       "    .dataframe tbody tr th:only-of-type {\n",
       "        vertical-align: middle;\n",
       "    }\n",
       "\n",
       "    .dataframe tbody tr th {\n",
       "        vertical-align: top;\n",
       "    }\n",
       "\n",
       "    .dataframe thead th {\n",
       "        text-align: right;\n",
       "    }\n",
       "</style>\n",
       "<table border=\"1\" class=\"dataframe\">\n",
       "  <thead>\n",
       "    <tr style=\"text-align: right;\">\n",
       "      <th></th>\n",
       "      <th>Income</th>\n",
       "      <th>Kidhome</th>\n",
       "      <th>Teenhome</th>\n",
       "      <th>Dt_Customer</th>\n",
       "      <th>Recency</th>\n",
       "      <th>MntWines</th>\n",
       "      <th>MntFruits</th>\n",
       "      <th>MntMeatProducts</th>\n",
       "      <th>MntFishProducts</th>\n",
       "      <th>MntSweetProducts</th>\n",
       "      <th>MntGoldProds</th>\n",
       "      <th>NumDealsPurchases</th>\n",
       "      <th>NumWebPurchases</th>\n",
       "      <th>NumCatalogPurchases</th>\n",
       "      <th>NumStorePurchases</th>\n",
       "      <th>NumWebVisitsMonth</th>\n",
       "      <th>Complain</th>\n",
       "      <th>Age</th>\n",
       "      <th>Education_Level</th>\n",
       "      <th>Living_Status</th>\n",
       "      <th>Total_Campaigns_Accepted</th>\n",
       "      <th>Average_Spend</th>\n",
       "      <th>Spent</th>\n",
       "      <th>Is_Parent</th>\n",
       "      <th>total_spending</th>\n",
       "      <th>avg_web_visits</th>\n",
       "      <th>online_purchase_ratio</th>\n",
       "    </tr>\n",
       "  </thead>\n",
       "  <tbody>\n",
       "    <tr>\n",
       "      <th>0</th>\n",
       "      <td>0.035372</td>\n",
       "      <td>-0.832968</td>\n",
       "      <td>0.906648</td>\n",
       "      <td>0.495874</td>\n",
       "      <td>-0.342403</td>\n",
       "      <td>-0.348870</td>\n",
       "      <td>-0.532986</td>\n",
       "      <td>-0.452266</td>\n",
       "      <td>-0.216834</td>\n",
       "      <td>-0.166201</td>\n",
       "      <td>-0.568359</td>\n",
       "      <td>-0.169519</td>\n",
       "      <td>-0.015867</td>\n",
       "      <td>-0.228765</td>\n",
       "      <td>0.068315</td>\n",
       "      <td>-0.133049</td>\n",
       "      <td>-0.098533</td>\n",
       "      <td>-0.085660</td>\n",
       "      <td>0.347404</td>\n",
       "      <td>0.050702</td>\n",
       "      <td>-0.440278</td>\n",
       "      <td>-0.232439</td>\n",
       "      <td>-0.439840</td>\n",
       "      <td>0.647667</td>\n",
       "      <td>-0.473933</td>\n",
       "      <td>-0.133049</td>\n",
       "      <td>0.040759</td>\n",
       "    </tr>\n",
       "    <tr>\n",
       "      <th>1</th>\n",
       "      <td>-1.311425</td>\n",
       "      <td>1.020712</td>\n",
       "      <td>-0.923069</td>\n",
       "      <td>1.566015</td>\n",
       "      <td>1.141823</td>\n",
       "      <td>-0.901265</td>\n",
       "      <td>-0.508136</td>\n",
       "      <td>-0.730999</td>\n",
       "      <td>-0.543919</td>\n",
       "      <td>-0.608688</td>\n",
       "      <td>-0.608005</td>\n",
       "      <td>-0.682019</td>\n",
       "      <td>-1.140975</td>\n",
       "      <td>-0.937550</td>\n",
       "      <td>-1.167293</td>\n",
       "      <td>0.685715</td>\n",
       "      <td>-0.098533</td>\n",
       "      <td>-1.027916</td>\n",
       "      <td>-2.878492</td>\n",
       "      <td>0.050702</td>\n",
       "      <td>-0.440278</td>\n",
       "      <td>-0.546271</td>\n",
       "      <td>-0.951213</td>\n",
       "      <td>0.647667</td>\n",
       "      <td>-0.943751</td>\n",
       "      <td>0.685715</td>\n",
       "      <td>0.040759</td>\n",
       "    </tr>\n",
       "    <tr>\n",
       "      <th>2</th>\n",
       "      <td>0.533378</td>\n",
       "      <td>-0.832968</td>\n",
       "      <td>0.906648</td>\n",
       "      <td>-1.333721</td>\n",
       "      <td>1.728610</td>\n",
       "      <td>0.170857</td>\n",
       "      <td>-0.234785</td>\n",
       "      <td>1.021037</td>\n",
       "      <td>0.764423</td>\n",
       "      <td>0.202539</td>\n",
       "      <td>0.363339</td>\n",
       "      <td>0.342981</td>\n",
       "      <td>0.359169</td>\n",
       "      <td>0.125628</td>\n",
       "      <td>-0.240587</td>\n",
       "      <td>-0.542431</td>\n",
       "      <td>-0.098533</td>\n",
       "      <td>0.599618</td>\n",
       "      <td>0.347404</td>\n",
       "      <td>0.050702</td>\n",
       "      <td>1.030458</td>\n",
       "      <td>0.682541</td>\n",
       "      <td>0.438811</td>\n",
       "      <td>0.647667</td>\n",
       "      <td>0.570837</td>\n",
       "      <td>-0.542431</td>\n",
       "      <td>0.469701</td>\n",
       "    </tr>\n",
       "    <tr>\n",
       "      <th>3</th>\n",
       "      <td>-0.816785</td>\n",
       "      <td>1.020712</td>\n",
       "      <td>0.906648</td>\n",
       "      <td>-1.526051</td>\n",
       "      <td>0.658587</td>\n",
       "      <td>-0.883446</td>\n",
       "      <td>-0.607537</td>\n",
       "      <td>-0.700029</td>\n",
       "      <td>-0.652948</td>\n",
       "      <td>-0.657853</td>\n",
       "      <td>-0.806239</td>\n",
       "      <td>-0.169519</td>\n",
       "      <td>-1.140975</td>\n",
       "      <td>-0.937550</td>\n",
       "      <td>-0.858391</td>\n",
       "      <td>-0.542431</td>\n",
       "      <td>-0.098533</td>\n",
       "      <td>1.370555</td>\n",
       "      <td>0.347404</td>\n",
       "      <td>0.050702</td>\n",
       "      <td>-0.440278</td>\n",
       "      <td>-0.640584</td>\n",
       "      <td>-0.954463</td>\n",
       "      <td>0.647667</td>\n",
       "      <td>-0.958535</td>\n",
       "      <td>-0.542431</td>\n",
       "      <td>-0.656272</td>\n",
       "    </tr>\n",
       "    <tr>\n",
       "      <th>4</th>\n",
       "      <td>-0.249477</td>\n",
       "      <td>1.020712</td>\n",
       "      <td>0.906648</td>\n",
       "      <td>-1.185776</td>\n",
       "      <td>-0.376920</td>\n",
       "      <td>-0.871566</td>\n",
       "      <td>-0.632387</td>\n",
       "      <td>-0.713302</td>\n",
       "      <td>-0.652948</td>\n",
       "      <td>-0.633270</td>\n",
       "      <td>-0.726946</td>\n",
       "      <td>-0.169519</td>\n",
       "      <td>-1.140975</td>\n",
       "      <td>-0.583157</td>\n",
       "      <td>-1.167293</td>\n",
       "      <td>-0.133049</td>\n",
       "      <td>-0.098533</td>\n",
       "      <td>1.284896</td>\n",
       "      <td>0.347404</td>\n",
       "      <td>0.050702</td>\n",
       "      <td>-0.440278</td>\n",
       "      <td>-0.616192</td>\n",
       "      <td>-0.944713</td>\n",
       "      <td>0.647667</td>\n",
       "      <td>-0.950322</td>\n",
       "      <td>-0.133049</td>\n",
       "      <td>-0.656272</td>\n",
       "    </tr>\n",
       "  </tbody>\n",
       "</table>\n",
       "</div>"
      ],
      "text/plain": [
       "     Income   Kidhome  Teenhome  Dt_Customer   Recency  MntWines  MntFruits  \\\n",
       "0  0.035372 -0.832968  0.906648     0.495874 -0.342403 -0.348870  -0.532986   \n",
       "1 -1.311425  1.020712 -0.923069     1.566015  1.141823 -0.901265  -0.508136   \n",
       "2  0.533378 -0.832968  0.906648    -1.333721  1.728610  0.170857  -0.234785   \n",
       "3 -0.816785  1.020712  0.906648    -1.526051  0.658587 -0.883446  -0.607537   \n",
       "4 -0.249477  1.020712  0.906648    -1.185776 -0.376920 -0.871566  -0.632387   \n",
       "\n",
       "   MntMeatProducts  MntFishProducts  MntSweetProducts  MntGoldProds  \\\n",
       "0        -0.452266        -0.216834         -0.166201     -0.568359   \n",
       "1        -0.730999        -0.543919         -0.608688     -0.608005   \n",
       "2         1.021037         0.764423          0.202539      0.363339   \n",
       "3        -0.700029        -0.652948         -0.657853     -0.806239   \n",
       "4        -0.713302        -0.652948         -0.633270     -0.726946   \n",
       "\n",
       "   NumDealsPurchases  NumWebPurchases  NumCatalogPurchases  NumStorePurchases  \\\n",
       "0          -0.169519        -0.015867            -0.228765           0.068315   \n",
       "1          -0.682019        -1.140975            -0.937550          -1.167293   \n",
       "2           0.342981         0.359169             0.125628          -0.240587   \n",
       "3          -0.169519        -1.140975            -0.937550          -0.858391   \n",
       "4          -0.169519        -1.140975            -0.583157          -1.167293   \n",
       "\n",
       "   NumWebVisitsMonth  Complain       Age  Education_Level  Living_Status  \\\n",
       "0          -0.133049 -0.098533 -0.085660         0.347404       0.050702   \n",
       "1           0.685715 -0.098533 -1.027916        -2.878492       0.050702   \n",
       "2          -0.542431 -0.098533  0.599618         0.347404       0.050702   \n",
       "3          -0.542431 -0.098533  1.370555         0.347404       0.050702   \n",
       "4          -0.133049 -0.098533  1.284896         0.347404       0.050702   \n",
       "\n",
       "   Total_Campaigns_Accepted  Average_Spend     Spent  Is_Parent  \\\n",
       "0                 -0.440278      -0.232439 -0.439840   0.647667   \n",
       "1                 -0.440278      -0.546271 -0.951213   0.647667   \n",
       "2                  1.030458       0.682541  0.438811   0.647667   \n",
       "3                 -0.440278      -0.640584 -0.954463   0.647667   \n",
       "4                 -0.440278      -0.616192 -0.944713   0.647667   \n",
       "\n",
       "   total_spending  avg_web_visits  online_purchase_ratio  \n",
       "0       -0.473933       -0.133049               0.040759  \n",
       "1       -0.943751        0.685715               0.040759  \n",
       "2        0.570837       -0.542431               0.469701  \n",
       "3       -0.958535       -0.542431              -0.656272  \n",
       "4       -0.950322       -0.133049              -0.656272  "
      ]
     },
     "execution_count": 85,
     "metadata": {},
     "output_type": "execute_result"
    }
   ],
   "source": [
    "X_test_scaled = pd.DataFrame(num_scaler.transform(X_test),\n",
    "                              columns = num_scaler.get_feature_names_out())\n",
    "X_test_scaled.head()"
   ]
  },
  {
   "cell_type": "markdown",
   "id": "b5ef9543",
   "metadata": {},
   "source": [
    "# 📈 First Model"
   ]
  },
  {
   "cell_type": "code",
   "execution_count": 86,
   "id": "1e34ea0f",
   "metadata": {},
   "outputs": [],
   "source": [
    "logreg = LogisticRegression(max_iter = 1_000, penalty = \"l2\")"
   ]
  },
  {
   "cell_type": "code",
   "execution_count": 87,
   "id": "14859220",
   "metadata": {},
   "outputs": [
    {
     "data": {
      "text/html": [
       "<style>#sk-container-id-3 {color: black;background-color: white;}#sk-container-id-3 pre{padding: 0;}#sk-container-id-3 div.sk-toggleable {background-color: white;}#sk-container-id-3 label.sk-toggleable__label {cursor: pointer;display: block;width: 100%;margin-bottom: 0;padding: 0.3em;box-sizing: border-box;text-align: center;}#sk-container-id-3 label.sk-toggleable__label-arrow:before {content: \"▸\";float: left;margin-right: 0.25em;color: #696969;}#sk-container-id-3 label.sk-toggleable__label-arrow:hover:before {color: black;}#sk-container-id-3 div.sk-estimator:hover label.sk-toggleable__label-arrow:before {color: black;}#sk-container-id-3 div.sk-toggleable__content {max-height: 0;max-width: 0;overflow: hidden;text-align: left;background-color: #f0f8ff;}#sk-container-id-3 div.sk-toggleable__content pre {margin: 0.2em;color: black;border-radius: 0.25em;background-color: #f0f8ff;}#sk-container-id-3 input.sk-toggleable__control:checked~div.sk-toggleable__content {max-height: 200px;max-width: 100%;overflow: auto;}#sk-container-id-3 input.sk-toggleable__control:checked~label.sk-toggleable__label-arrow:before {content: \"▾\";}#sk-container-id-3 div.sk-estimator input.sk-toggleable__control:checked~label.sk-toggleable__label {background-color: #d4ebff;}#sk-container-id-3 div.sk-label input.sk-toggleable__control:checked~label.sk-toggleable__label {background-color: #d4ebff;}#sk-container-id-3 input.sk-hidden--visually {border: 0;clip: rect(1px 1px 1px 1px);clip: rect(1px, 1px, 1px, 1px);height: 1px;margin: -1px;overflow: hidden;padding: 0;position: absolute;width: 1px;}#sk-container-id-3 div.sk-estimator {font-family: monospace;background-color: #f0f8ff;border: 1px dotted black;border-radius: 0.25em;box-sizing: border-box;margin-bottom: 0.5em;}#sk-container-id-3 div.sk-estimator:hover {background-color: #d4ebff;}#sk-container-id-3 div.sk-parallel-item::after {content: \"\";width: 100%;border-bottom: 1px solid gray;flex-grow: 1;}#sk-container-id-3 div.sk-label:hover label.sk-toggleable__label {background-color: #d4ebff;}#sk-container-id-3 div.sk-serial::before {content: \"\";position: absolute;border-left: 1px solid gray;box-sizing: border-box;top: 0;bottom: 0;left: 50%;z-index: 0;}#sk-container-id-3 div.sk-serial {display: flex;flex-direction: column;align-items: center;background-color: white;padding-right: 0.2em;padding-left: 0.2em;position: relative;}#sk-container-id-3 div.sk-item {position: relative;z-index: 1;}#sk-container-id-3 div.sk-parallel {display: flex;align-items: stretch;justify-content: center;background-color: white;position: relative;}#sk-container-id-3 div.sk-item::before, #sk-container-id-3 div.sk-parallel-item::before {content: \"\";position: absolute;border-left: 1px solid gray;box-sizing: border-box;top: 0;bottom: 0;left: 50%;z-index: -1;}#sk-container-id-3 div.sk-parallel-item {display: flex;flex-direction: column;z-index: 1;position: relative;background-color: white;}#sk-container-id-3 div.sk-parallel-item:first-child::after {align-self: flex-end;width: 50%;}#sk-container-id-3 div.sk-parallel-item:last-child::after {align-self: flex-start;width: 50%;}#sk-container-id-3 div.sk-parallel-item:only-child::after {width: 0;}#sk-container-id-3 div.sk-dashed-wrapped {border: 1px dashed gray;margin: 0 0.4em 0.5em 0.4em;box-sizing: border-box;padding-bottom: 0.4em;background-color: white;}#sk-container-id-3 div.sk-label label {font-family: monospace;font-weight: bold;display: inline-block;line-height: 1.2em;}#sk-container-id-3 div.sk-label-container {text-align: center;}#sk-container-id-3 div.sk-container {/* jupyter's `normalize.less` sets `[hidden] { display: none; }` but bootstrap.min.css set `[hidden] { display: none !important; }` so we also need the `!important` here to be able to override the default hidden behavior on the sphinx rendered scikit-learn.org. See: https://github.com/scikit-learn/scikit-learn/issues/21755 */display: inline-block !important;position: relative;}#sk-container-id-3 div.sk-text-repr-fallback {display: none;}</style><div id=\"sk-container-id-3\" class=\"sk-top-container\"><div class=\"sk-text-repr-fallback\"><pre>LogisticRegression(max_iter=1000)</pre><b>In a Jupyter environment, please rerun this cell to show the HTML representation or trust the notebook. <br />On GitHub, the HTML representation is unable to render, please try loading this page with nbviewer.org.</b></div><div class=\"sk-container\" hidden><div class=\"sk-item\"><div class=\"sk-estimator sk-toggleable\"><input class=\"sk-toggleable__control sk-hidden--visually\" id=\"sk-estimator-id-3\" type=\"checkbox\" checked><label for=\"sk-estimator-id-3\" class=\"sk-toggleable__label sk-toggleable__label-arrow\">LogisticRegression</label><div class=\"sk-toggleable__content\"><pre>LogisticRegression(max_iter=1000)</pre></div></div></div></div></div>"
      ],
      "text/plain": [
       "LogisticRegression(max_iter=1000)"
      ]
     },
     "execution_count": 87,
     "metadata": {},
     "output_type": "execute_result"
    }
   ],
   "source": [
    "logreg.fit(X_train_scaled, y_train)"
   ]
  },
  {
   "cell_type": "code",
   "execution_count": 88,
   "id": "63981289",
   "metadata": {},
   "outputs": [
    {
     "data": {
      "text/plain": [
       "0.905829596412556"
      ]
     },
     "execution_count": 88,
     "metadata": {},
     "output_type": "execute_result"
    }
   ],
   "source": [
    "logreg.score(X_test_scaled, y_test)"
   ]
  },
  {
   "cell_type": "code",
   "execution_count": 89,
   "id": "68d48401",
   "metadata": {},
   "outputs": [
    {
     "data": {
      "image/png": "[encoded data removed]",
      "text/plain": [
       "<Figure size 640x480 with 2 Axes>"
      ]
     },
     "metadata": {},
     "output_type": "display_data"
    }
   ],
   "source": [
    "y_pred_logreg = logreg.predict(X_test_scaled)\n",
    "\n",
    "cm = confusion_matrix(y_test, y_pred_logreg, labels=[0,1])\n",
    "disp = ConfusionMatrixDisplay(confusion_matrix=cm, display_labels=[0,1])\n",
    "disp.plot()\n",
    "plt.show()"
   ]
  },
  {
   "cell_type": "code",
   "execution_count": 90,
   "id": "839ba427",
   "metadata": {},
   "outputs": [
    {
     "name": "stdout",
     "output_type": "stream",
     "text": [
      "              precision    recall  f1-score   support\n",
      "\n",
      "           0       0.92      0.98      0.95       571\n",
      "           1       0.79      0.49      0.60        98\n",
      "\n",
      "    accuracy                           0.91       669\n",
      "   macro avg       0.85      0.73      0.78       669\n",
      "weighted avg       0.90      0.91      0.90       669\n",
      "\n"
     ]
    }
   ],
   "source": [
    "print(classification_report(y_test, y_pred_logreg))"
   ]
  },
  {
   "cell_type": "markdown",
   "id": "ec02cb2e",
   "metadata": {},
   "source": [
    "### 💭 Comment\n",
    "- A basic logistic regression model improved accuracy by 5%\n",
    "- It correctly identified roughly **HALF** of customers who responded to the campaign.\n",
    "- Almost **80%** of the customers identified as RESPONDENTS were correct.\n",
    "\n",
    "# 🪜 Next Steps\n",
    "1. Scenario A: High potential value from capturing all potential customers.\n",
    "- Maximize true positives (increase recall)\n",
    "2. Scenario B: Limited resources or costs associated with targeting customers.\n",
    "- Reduce false positives (increase precision)"
   ]
  },
  {
   "cell_type": "markdown",
   "id": "12f78713",
   "metadata": {},
   "source": [
    "## 👁️ A. Increase Recall"
   ]
  },
  {
   "cell_type": "code",
   "execution_count": 65,
   "id": "30498cf1",
   "metadata": {},
   "outputs": [],
   "source": [
    "targeted_recall = 0.95"
   ]
  },
  {
   "cell_type": "code",
   "execution_count": 62,
   "id": "70f6372c",
   "metadata": {},
   "outputs": [],
   "source": [
    "# Predict probabilities\n",
    "y_pred_probas_0, y_pred_probas_1 = cross_val_predict(LogisticRegression(max_iter = 1_000),\n",
    "                                                     X_train_scaled, y_train,\n",
    "                                                     method = \"predict_proba\").T\n",
    "\n",
    "# Generate precision and thresholds (and recalls) using probabilities for class 1\n",
    "precision, recall, thresholds = precision_recall_curve(y_train, y_pred_probas_1)\n",
    "\n",
    "# Populate dataframe with precision and threshold\n",
    "df_recall = pd.DataFrame({\"recall\" : recall[1:],\n",
    "                          \"threshold\" : thresholds})\n",
    "\n",
    "# New Threshold\n",
    "new_threshold = df_recall[df_recall.recall > targeted_recall][\"threshold\"].max()\n",
    "new_threshold"
   ]
  },
  {
   "cell_type": "code",
   "execution_count": 67,
   "id": "bf2f30bc",
   "metadata": {},
   "outputs": [
    {
     "data": {
      "text/plain": [
       "(669, 2)"
      ]
     },
     "execution_count": 67,
     "metadata": {},
     "output_type": "execute_result"
    }
   ],
   "source": [
    "# New predictions\n",
    "y_pred_logreg_probas = logreg.predict_proba(X_test_scaled)\n",
    "\n",
    "y_new_pred = y_pred_logreg_probas[:,1] > new_threshold"
   ]
  },
  {
   "cell_type": "code",
   "execution_count": 69,
   "id": "16e02d0d",
   "metadata": {},
   "outputs": [
    {
     "data": {
      "image/png": "[encoded data removed]",
      "text/plain": [
       "<Figure size 640x480 with 2 Axes>"
      ]
     },
     "metadata": {},
     "output_type": "display_data"
    }
   ],
   "source": [
    "cm = confusion_matrix(y_test, y_new_pred, labels=[0,1])\n",
    "disp = ConfusionMatrixDisplay(confusion_matrix=cm, display_labels=[0,1])\n",
    "disp.plot()\n",
    "plt.show()"
   ]
  },
  {
   "cell_type": "code",
   "execution_count": 70,
   "id": "52afd7ff",
   "metadata": {},
   "outputs": [
    {
     "name": "stdout",
     "output_type": "stream",
     "text": [
      "              precision    recall  f1-score   support\n",
      "\n",
      "           0       0.99      0.52      0.68       571\n",
      "           1       0.26      0.96      0.40        98\n",
      "\n",
      "    accuracy                           0.58       669\n",
      "   macro avg       0.62      0.74      0.54       669\n",
      "weighted avg       0.88      0.58      0.64       669\n",
      "\n"
     ]
    }
   ],
   "source": [
    "print(classification_report(y_test, y_new_pred))"
   ]
  },
  {
   "cell_type": "markdown",
   "id": "d40eaa44",
   "metadata": {},
   "source": [
    "### 💭 Comment\n",
    "- Now we captured **96%** of all customers who would respond to our campaign, but at a HIGH COST!\n",
    "- Let's try to improve the model instead. How can we do this?\n",
    "1. Feature selection - VIF, feature permutation\n",
    "2. Class balancing - SMOTE\n",
    "3. Try more advanced models"
   ]
  },
  {
   "cell_type": "markdown",
   "id": "a69173dd",
   "metadata": {},
   "source": [
    "## "
   ]
  }
 ],
 "metadata": {
  "kernelspec": {
   "display_name": "Python 3 (ipykernel)",
   "language": "python",
   "name": "python3"
  },
  "language_info": {
   "codemirror_mode": {
    "name": "ipython",
    "version": 3
   },
   "file_extension": ".py",
   "mimetype": "text/x-python",
   "name": "python",
   "nbconvert_exporter": "python",
   "pygments_lexer": "ipython3",
   "version": "3.10.6"
  },
  "toc": {
   "base_numbering": 1,
   "nav_menu": {},
   "number_sections": true,
   "sideBar": true,
   "skip_h1_title": false,
   "title_cell": "Table of Contents",
   "title_sidebar": "Contents",
   "toc_cell": false,
   "toc_position": {},
   "toc_section_display": true,
   "toc_window_display": true
  }
 },
 "nbformat": 4,
 "nbformat_minor": 5
}
